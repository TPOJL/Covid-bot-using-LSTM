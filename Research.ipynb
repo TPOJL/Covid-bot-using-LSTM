{
  "cells": [
    {
      "cell_type": "markdown",
      "metadata": {
        "colab_type": "text",
        "id": "view-in-github"
      },
      "source": [
        "<a href=\"https://colab.research.google.com/github/AndreRab/Covid-bot-using-LSTM/blob/main/Research.ipynb\" target=\"_parent\"><img src=\"https://colab.research.google.com/assets/colab-badge.svg\" alt=\"Open In Colab\"/></a>"
      ]
    },
    {
      "cell_type": "markdown",
      "id": "e9203188",
      "metadata": {
        "id": "e9203188"
      },
      "source": [
        "## Data downloading"
      ]
    },
    {
      "cell_type": "code",
      "execution_count": 1,
      "id": "dbdbacda",
      "metadata": {
        "id": "dbdbacda"
      },
      "outputs": [
        {
          "name": "stderr",
          "output_type": "stream",
          "text": [
            "/Users/manoftheprincess/.pyenv/versions/3.12.2/lib/python3.12/site-packages/tqdm/auto.py:21: TqdmWarning: IProgress not found. Please update jupyter and ipywidgets. See https://ipywidgets.readthedocs.io/en/stable/user_install.html\n",
            "  from .autonotebook import tqdm as notebook_tqdm\n"
          ]
        }
      ],
      "source": [
        "import pandas as pd\n",
        "import os\n",
        "import kagglehub"
      ]
    },
    {
      "cell_type": "code",
      "execution_count": 2,
      "id": "019a671a",
      "metadata": {},
      "outputs": [
        {
          "data": {
            "text/html": [
              "<div>\n",
              "<style scoped>\n",
              "    .dataframe tbody tr th:only-of-type {\n",
              "        vertical-align: middle;\n",
              "    }\n",
              "\n",
              "    .dataframe tbody tr th {\n",
              "        vertical-align: top;\n",
              "    }\n",
              "\n",
              "    .dataframe thead th {\n",
              "        text-align: right;\n",
              "    }\n",
              "</style>\n",
              "<table border=\"1\" class=\"dataframe\">\n",
              "  <thead>\n",
              "    <tr style=\"text-align: right;\">\n",
              "      <th></th>\n",
              "      <th>questions</th>\n",
              "      <th>answers</th>\n",
              "    </tr>\n",
              "  </thead>\n",
              "  <tbody>\n",
              "    <tr>\n",
              "      <th>0</th>\n",
              "      <td>What is a novel coronavirus?</td>\n",
              "      <td>A novel coronavirus is a new coronavirus that ...</td>\n",
              "    </tr>\n",
              "    <tr>\n",
              "      <th>1</th>\n",
              "      <td>Why is the disease being called coronavirus di...</td>\n",
              "      <td>On February 11, 2020 the World Health Organiza...</td>\n",
              "    </tr>\n",
              "    <tr>\n",
              "      <th>2</th>\n",
              "      <td>How does the virus spread?</td>\n",
              "      <td>The virus that causes COVID-19 is thought to s...</td>\n",
              "    </tr>\n",
              "    <tr>\n",
              "      <th>3</th>\n",
              "      <td>Can I get COVID-19 from food (including restau...</td>\n",
              "      <td>Currently there is no evidence that people can...</td>\n",
              "    </tr>\n",
              "    <tr>\n",
              "      <th>4</th>\n",
              "      <td>Will warm weather stop the outbreak of COVID-19?</td>\n",
              "      <td>It is not yet known whether weather and temper...</td>\n",
              "    </tr>\n",
              "  </tbody>\n",
              "</table>\n",
              "</div>"
            ],
            "text/plain": [
              "                                           questions  \\\n",
              "0                       What is a novel coronavirus?   \n",
              "1  Why is the disease being called coronavirus di...   \n",
              "2                         How does the virus spread?   \n",
              "3  Can I get COVID-19 from food (including restau...   \n",
              "4   Will warm weather stop the outbreak of COVID-19?   \n",
              "\n",
              "                                             answers  \n",
              "0  A novel coronavirus is a new coronavirus that ...  \n",
              "1  On February 11, 2020 the World Health Organiza...  \n",
              "2  The virus that causes COVID-19 is thought to s...  \n",
              "3  Currently there is no evidence that people can...  \n",
              "4  It is not yet known whether weather and temper...  "
            ]
          },
          "execution_count": 2,
          "metadata": {},
          "output_type": "execute_result"
        }
      ],
      "source": [
        "path = kagglehub.dataset_download(\"deepann/covid19-related-faqs\")\n",
        "files = os.listdir(path)\n",
        "csv_files = [f for f in files if f.endswith('.csv')]\n",
        "if csv_files:\n",
        "    csv_path = os.path.join(path, csv_files[0])\n",
        "    df1 = pd.read_csv(csv_path)\n",
        "df1.head()"
      ]
    },
    {
      "cell_type": "code",
      "execution_count": 3,
      "id": "6da0c7fd",
      "metadata": {},
      "outputs": [
        {
          "data": {
            "text/html": [
              "<div>\n",
              "<style scoped>\n",
              "    .dataframe tbody tr th:only-of-type {\n",
              "        vertical-align: middle;\n",
              "    }\n",
              "\n",
              "    .dataframe tbody tr th {\n",
              "        vertical-align: top;\n",
              "    }\n",
              "\n",
              "    .dataframe thead th {\n",
              "        text-align: right;\n",
              "    }\n",
              "</style>\n",
              "<table border=\"1\" class=\"dataframe\">\n",
              "  <thead>\n",
              "    <tr style=\"text-align: right;\">\n",
              "      <th></th>\n",
              "      <th>questions</th>\n",
              "      <th>answers</th>\n",
              "    </tr>\n",
              "  </thead>\n",
              "  <tbody>\n",
              "    <tr>\n",
              "      <th>0</th>\n",
              "      <td>1. How does COVID-19 spread?</td>\n",
              "      <td>People can catch COVID-19 from others who have...</td>\n",
              "    </tr>\n",
              "    <tr>\n",
              "      <th>1</th>\n",
              "      <td>2. What are the symptoms of COVID-19?</td>\n",
              "      <td>The most common symptoms of COVID-19 are fever...</td>\n",
              "    </tr>\n",
              "    <tr>\n",
              "      <th>2</th>\n",
              "      <td>3. How do I know if it is COVID-19 or just the...</td>\n",
              "      <td>A COVID-19 infection has the same signs and sy...</td>\n",
              "    </tr>\n",
              "    <tr>\n",
              "      <th>3</th>\n",
              "      <td>4. Can the virus that causes COVID-19 be trans...</td>\n",
              "      <td>Studies to date suggest that the virus that ca...</td>\n",
              "    </tr>\n",
              "    <tr>\n",
              "      <th>4</th>\n",
              "      <td>5. What can I do to protect myself and prevent...</td>\n",
              "      <td>Protection measures for everyone   Stay aware ...</td>\n",
              "    </tr>\n",
              "  </tbody>\n",
              "</table>\n",
              "</div>"
            ],
            "text/plain": [
              "                                           questions  \\\n",
              "0                       1. How does COVID-19 spread?   \n",
              "1              2. What are the symptoms of COVID-19?   \n",
              "2  3. How do I know if it is COVID-19 or just the...   \n",
              "3  4. Can the virus that causes COVID-19 be trans...   \n",
              "4  5. What can I do to protect myself and prevent...   \n",
              "\n",
              "                                             answers  \n",
              "0  People can catch COVID-19 from others who have...  \n",
              "1  The most common symptoms of COVID-19 are fever...  \n",
              "2  A COVID-19 infection has the same signs and sy...  \n",
              "3  Studies to date suggest that the virus that ca...  \n",
              "4  Protection measures for everyone   Stay aware ...  "
            ]
          },
          "execution_count": 3,
          "metadata": {},
          "output_type": "execute_result"
        }
      ],
      "source": [
        "path = kagglehub.dataset_download(\"narendrageek/covid19-frequent-asked-questions\")\n",
        "files = os.listdir(path)\n",
        "csv_files = [f for f in files if f.endswith('.csv')]\n",
        "if csv_files:\n",
        "    csv_path = os.path.join(path, csv_files[0])\n",
        "    df2 = pd.read_csv(csv_path)\n",
        "df2.head()"
      ]
    },
    {
      "cell_type": "code",
      "execution_count": null,
      "id": "c712586e",
      "metadata": {
        "id": "c712586e"
      },
      "outputs": [],
      "source": [
        "\n",
        "df3 = pd.read_csv('news_CSV.csv', encoding='ISO-8859-1')"
      ]
    },
    {
      "cell_type": "code",
      "execution_count": null,
      "id": "1cd6dff9",
      "metadata": {
        "colab": {
          "base_uri": "https://localhost:8080/",
          "height": 226
        },
        "id": "1cd6dff9",
        "outputId": "d5f68668-dd99-4cbf-bee4-841c7fe9e91e"
      },
      "outputs": [
        {
          "data": {
            "application/vnd.google.colaboratory.intrinsic+json": {
              "summary": "{\n  \"name\": \"df3\",\n  \"rows\": 11181,\n  \"fields\": [\n    {\n      \"column\": \"response\",\n      \"properties\": {\n        \"dtype\": \"string\",\n        \"num_unique_values\": 10266,\n        \"samples\": [\n          \"Can you please post this presentation on the website at your earliest convenience if possible? Just now got this notice at 5 P M. VERY interested in this.\\nThanks!\",\n          \"Remind your partner that you\\u00e2\\u0080\\u0099re thankful to be with them, and that you\\u00e2\\u0080\\u0099re grateful to have company and companionship throughout the outbreak. You don\\u00e2\\u0080\\u0099t have to be overly affectionate\\u00e2\\u0080\\u0094just express yourself in a way that feels genuine to you.  You can say things like: \\n\\n\\u00e2\\u0080\\u009cI love you.\\u00e2\\u0080\\u009d\\n\\u00e2\\u0080\\u009cHaving you here during this ordeal is really comforting.\\u00e2\\u0080\\u009d\\n\\u00e2\\u0080\\u009cThanks for being here for me.\\u00e2\\u0080\\u009d\\n\\u00e2\\u0080\\u009cThank you for making me breakfast. You're always so thoughtful and it brightens my day.\\u00e2\\u0080\\u009d\",\n          \"Yes. You will receive a 1099-G. You have the option to have taxes withheld.\"\n        ],\n        \"semantic_type\": \"\",\n        \"description\": \"\"\n      }\n    },\n    {\n      \"column\": \"context\",\n      \"properties\": {\n        \"dtype\": \"string\",\n        \"num_unique_values\": 9051,\n        \"samples\": [\n          \"How prepared is Germany?\\n\",\n          \"How is testing serology different from testing for the virus with a nasal swab test?\",\n          \"Place 2 hair ties about 2\\u00c2\\u00a0in (5.1\\u00c2\\u00a0cm) inwards from each side.\"\n        ],\n        \"semantic_type\": \"\",\n        \"description\": \"\"\n      }\n    }\n  ]\n}",
              "type": "dataframe",
              "variable_name": "df3"
            },
            "text/html": [
              "\n",
              "  <div id=\"df-ddc8ac8d-0f30-481a-836f-b520075ea28d\" class=\"colab-df-container\">\n",
              "    <div>\n",
              "<style scoped>\n",
              "    .dataframe tbody tr th:only-of-type {\n",
              "        vertical-align: middle;\n",
              "    }\n",
              "\n",
              "    .dataframe tbody tr th {\n",
              "        vertical-align: top;\n",
              "    }\n",
              "\n",
              "    .dataframe thead th {\n",
              "        text-align: right;\n",
              "    }\n",
              "</style>\n",
              "<table border=\"1\" class=\"dataframe\">\n",
              "  <thead>\n",
              "    <tr style=\"text-align: right;\">\n",
              "      <th></th>\n",
              "      <th>response</th>\n",
              "      <th>context</th>\n",
              "    </tr>\n",
              "  </thead>\n",
              "  <tbody>\n",
              "    <tr>\n",
              "      <th>0</th>\n",
              "      <td>Symptoms include fever, coughing, sore throat,...</td>\n",
              "      <td>What are the symptoms?</td>\n",
              "    </tr>\n",
              "    <tr>\n",
              "      <th>1</th>\n",
              "      <td>Your doctor will tell you if you need to get t...</td>\n",
              "      <td>When should I get tested?</td>\n",
              "    </tr>\n",
              "    <tr>\n",
              "      <th>2</th>\n",
              "      <td>As cases of coronavirus surge, health authorit...</td>\n",
              "      <td>What's the difference between physical distanc...</td>\n",
              "    </tr>\n",
              "    <tr>\n",
              "      <th>3</th>\n",
              "      <td>If you have been in contact with a person with...</td>\n",
              "      <td>How do I practice physical distancing?</td>\n",
              "    </tr>\n",
              "    <tr>\n",
              "      <th>4</th>\n",
              "      <td>Physical distancing is the reason the Federal ...</td>\n",
              "      <td>What's closed?</td>\n",
              "    </tr>\n",
              "  </tbody>\n",
              "</table>\n",
              "</div>\n",
              "    <div class=\"colab-df-buttons\">\n",
              "\n",
              "  <div class=\"colab-df-container\">\n",
              "    <button class=\"colab-df-convert\" onclick=\"convertToInteractive('df-ddc8ac8d-0f30-481a-836f-b520075ea28d')\"\n",
              "            title=\"Convert this dataframe to an interactive table.\"\n",
              "            style=\"display:none;\">\n",
              "\n",
              "  <svg xmlns=\"http://www.w3.org/2000/svg\" height=\"24px\" viewBox=\"0 -960 960 960\">\n",
              "    <path d=\"M120-120v-720h720v720H120Zm60-500h600v-160H180v160Zm220 220h160v-160H400v160Zm0 220h160v-160H400v160ZM180-400h160v-160H180v160Zm440 0h160v-160H620v160ZM180-180h160v-160H180v160Zm440 0h160v-160H620v160Z\"/>\n",
              "  </svg>\n",
              "    </button>\n",
              "\n",
              "  <style>\n",
              "    .colab-df-container {\n",
              "      display:flex;\n",
              "      gap: 12px;\n",
              "    }\n",
              "\n",
              "    .colab-df-convert {\n",
              "      background-color: #E8F0FE;\n",
              "      border: none;\n",
              "      border-radius: 50%;\n",
              "      cursor: pointer;\n",
              "      display: none;\n",
              "      fill: #1967D2;\n",
              "      height: 32px;\n",
              "      padding: 0 0 0 0;\n",
              "      width: 32px;\n",
              "    }\n",
              "\n",
              "    .colab-df-convert:hover {\n",
              "      background-color: #E2EBFA;\n",
              "      box-shadow: 0px 1px 2px rgba(60, 64, 67, 0.3), 0px 1px 3px 1px rgba(60, 64, 67, 0.15);\n",
              "      fill: #174EA6;\n",
              "    }\n",
              "\n",
              "    .colab-df-buttons div {\n",
              "      margin-bottom: 4px;\n",
              "    }\n",
              "\n",
              "    [theme=dark] .colab-df-convert {\n",
              "      background-color: #3B4455;\n",
              "      fill: #D2E3FC;\n",
              "    }\n",
              "\n",
              "    [theme=dark] .colab-df-convert:hover {\n",
              "      background-color: #434B5C;\n",
              "      box-shadow: 0px 1px 3px 1px rgba(0, 0, 0, 0.15);\n",
              "      filter: drop-shadow(0px 1px 2px rgba(0, 0, 0, 0.3));\n",
              "      fill: #FFFFFF;\n",
              "    }\n",
              "  </style>\n",
              "\n",
              "    <script>\n",
              "      const buttonEl =\n",
              "        document.querySelector('#df-ddc8ac8d-0f30-481a-836f-b520075ea28d button.colab-df-convert');\n",
              "      buttonEl.style.display =\n",
              "        google.colab.kernel.accessAllowed ? 'block' : 'none';\n",
              "\n",
              "      async function convertToInteractive(key) {\n",
              "        const element = document.querySelector('#df-ddc8ac8d-0f30-481a-836f-b520075ea28d');\n",
              "        const dataTable =\n",
              "          await google.colab.kernel.invokeFunction('convertToInteractive',\n",
              "                                                    [key], {});\n",
              "        if (!dataTable) return;\n",
              "\n",
              "        const docLinkHtml = 'Like what you see? Visit the ' +\n",
              "          '<a target=\"_blank\" href=https://colab.research.google.com/notebooks/data_table.ipynb>data table notebook</a>'\n",
              "          + ' to learn more about interactive tables.';\n",
              "        element.innerHTML = '';\n",
              "        dataTable['output_type'] = 'display_data';\n",
              "        await google.colab.output.renderOutput(dataTable, element);\n",
              "        const docLink = document.createElement('div');\n",
              "        docLink.innerHTML = docLinkHtml;\n",
              "        element.appendChild(docLink);\n",
              "      }\n",
              "    </script>\n",
              "  </div>\n",
              "\n",
              "\n",
              "<div id=\"df-1b332b6f-bb97-478f-b81e-4379642b47ff\">\n",
              "  <button class=\"colab-df-quickchart\" onclick=\"quickchart('df-1b332b6f-bb97-478f-b81e-4379642b47ff')\"\n",
              "            title=\"Suggest charts\"\n",
              "            style=\"display:none;\">\n",
              "\n",
              "<svg xmlns=\"http://www.w3.org/2000/svg\" height=\"24px\"viewBox=\"0 0 24 24\"\n",
              "     width=\"24px\">\n",
              "    <g>\n",
              "        <path d=\"M19 3H5c-1.1 0-2 .9-2 2v14c0 1.1.9 2 2 2h14c1.1 0 2-.9 2-2V5c0-1.1-.9-2-2-2zM9 17H7v-7h2v7zm4 0h-2V7h2v10zm4 0h-2v-4h2v4z\"/>\n",
              "    </g>\n",
              "</svg>\n",
              "  </button>\n",
              "\n",
              "<style>\n",
              "  .colab-df-quickchart {\n",
              "      --bg-color: #E8F0FE;\n",
              "      --fill-color: #1967D2;\n",
              "      --hover-bg-color: #E2EBFA;\n",
              "      --hover-fill-color: #174EA6;\n",
              "      --disabled-fill-color: #AAA;\n",
              "      --disabled-bg-color: #DDD;\n",
              "  }\n",
              "\n",
              "  [theme=dark] .colab-df-quickchart {\n",
              "      --bg-color: #3B4455;\n",
              "      --fill-color: #D2E3FC;\n",
              "      --hover-bg-color: #434B5C;\n",
              "      --hover-fill-color: #FFFFFF;\n",
              "      --disabled-bg-color: #3B4455;\n",
              "      --disabled-fill-color: #666;\n",
              "  }\n",
              "\n",
              "  .colab-df-quickchart {\n",
              "    background-color: var(--bg-color);\n",
              "    border: none;\n",
              "    border-radius: 50%;\n",
              "    cursor: pointer;\n",
              "    display: none;\n",
              "    fill: var(--fill-color);\n",
              "    height: 32px;\n",
              "    padding: 0;\n",
              "    width: 32px;\n",
              "  }\n",
              "\n",
              "  .colab-df-quickchart:hover {\n",
              "    background-color: var(--hover-bg-color);\n",
              "    box-shadow: 0 1px 2px rgba(60, 64, 67, 0.3), 0 1px 3px 1px rgba(60, 64, 67, 0.15);\n",
              "    fill: var(--button-hover-fill-color);\n",
              "  }\n",
              "\n",
              "  .colab-df-quickchart-complete:disabled,\n",
              "  .colab-df-quickchart-complete:disabled:hover {\n",
              "    background-color: var(--disabled-bg-color);\n",
              "    fill: var(--disabled-fill-color);\n",
              "    box-shadow: none;\n",
              "  }\n",
              "\n",
              "  .colab-df-spinner {\n",
              "    border: 2px solid var(--fill-color);\n",
              "    border-color: transparent;\n",
              "    border-bottom-color: var(--fill-color);\n",
              "    animation:\n",
              "      spin 1s steps(1) infinite;\n",
              "  }\n",
              "\n",
              "  @keyframes spin {\n",
              "    0% {\n",
              "      border-color: transparent;\n",
              "      border-bottom-color: var(--fill-color);\n",
              "      border-left-color: var(--fill-color);\n",
              "    }\n",
              "    20% {\n",
              "      border-color: transparent;\n",
              "      border-left-color: var(--fill-color);\n",
              "      border-top-color: var(--fill-color);\n",
              "    }\n",
              "    30% {\n",
              "      border-color: transparent;\n",
              "      border-left-color: var(--fill-color);\n",
              "      border-top-color: var(--fill-color);\n",
              "      border-right-color: var(--fill-color);\n",
              "    }\n",
              "    40% {\n",
              "      border-color: transparent;\n",
              "      border-right-color: var(--fill-color);\n",
              "      border-top-color: var(--fill-color);\n",
              "    }\n",
              "    60% {\n",
              "      border-color: transparent;\n",
              "      border-right-color: var(--fill-color);\n",
              "    }\n",
              "    80% {\n",
              "      border-color: transparent;\n",
              "      border-right-color: var(--fill-color);\n",
              "      border-bottom-color: var(--fill-color);\n",
              "    }\n",
              "    90% {\n",
              "      border-color: transparent;\n",
              "      border-bottom-color: var(--fill-color);\n",
              "    }\n",
              "  }\n",
              "</style>\n",
              "\n",
              "  <script>\n",
              "    async function quickchart(key) {\n",
              "      const quickchartButtonEl =\n",
              "        document.querySelector('#' + key + ' button');\n",
              "      quickchartButtonEl.disabled = true;  // To prevent multiple clicks.\n",
              "      quickchartButtonEl.classList.add('colab-df-spinner');\n",
              "      try {\n",
              "        const charts = await google.colab.kernel.invokeFunction(\n",
              "            'suggestCharts', [key], {});\n",
              "      } catch (error) {\n",
              "        console.error('Error during call to suggestCharts:', error);\n",
              "      }\n",
              "      quickchartButtonEl.classList.remove('colab-df-spinner');\n",
              "      quickchartButtonEl.classList.add('colab-df-quickchart-complete');\n",
              "    }\n",
              "    (() => {\n",
              "      let quickchartButtonEl =\n",
              "        document.querySelector('#df-1b332b6f-bb97-478f-b81e-4379642b47ff button');\n",
              "      quickchartButtonEl.style.display =\n",
              "        google.colab.kernel.accessAllowed ? 'block' : 'none';\n",
              "    })();\n",
              "  </script>\n",
              "</div>\n",
              "\n",
              "    </div>\n",
              "  </div>\n"
            ],
            "text/plain": [
              "                                            response  \\\n",
              "0  Symptoms include fever, coughing, sore throat,...   \n",
              "1  Your doctor will tell you if you need to get t...   \n",
              "2  As cases of coronavirus surge, health authorit...   \n",
              "3  If you have been in contact with a person with...   \n",
              "4  Physical distancing is the reason the Federal ...   \n",
              "\n",
              "                                             context  \n",
              "0                             What are the symptoms?  \n",
              "1                          When should I get tested?  \n",
              "2  What's the difference between physical distanc...  \n",
              "3             How do I practice physical distancing?  \n",
              "4                                     What's closed?  "
            ]
          },
          "execution_count": 5,
          "metadata": {},
          "output_type": "execute_result"
        }
      ],
      "source": [
        "df3.head()"
      ]
    },
    {
      "cell_type": "code",
      "execution_count": null,
      "id": "187054b6",
      "metadata": {
        "id": "187054b6"
      },
      "outputs": [],
      "source": [
        "questions_3 = df3.context\n",
        "df3.context = df3.response\n",
        "df3.response = questions_3"
      ]
    },
    {
      "cell_type": "code",
      "execution_count": null,
      "id": "5b5c0fba",
      "metadata": {
        "colab": {
          "base_uri": "https://localhost:8080/",
          "height": 226
        },
        "id": "5b5c0fba",
        "outputId": "e87a8f10-be90-4549-8637-973e4a0112af"
      },
      "outputs": [
        {
          "data": {
            "application/vnd.google.colaboratory.intrinsic+json": {
              "summary": "{\n  \"name\": \"df3\",\n  \"rows\": 11181,\n  \"fields\": [\n    {\n      \"column\": \"response\",\n      \"properties\": {\n        \"dtype\": \"string\",\n        \"num_unique_values\": 9051,\n        \"samples\": [\n          \"How prepared is Germany?\\n\",\n          \"How is testing serology different from testing for the virus with a nasal swab test?\",\n          \"Place 2 hair ties about 2\\u00c2\\u00a0in (5.1\\u00c2\\u00a0cm) inwards from each side.\"\n        ],\n        \"semantic_type\": \"\",\n        \"description\": \"\"\n      }\n    },\n    {\n      \"column\": \"context\",\n      \"properties\": {\n        \"dtype\": \"string\",\n        \"num_unique_values\": 10266,\n        \"samples\": [\n          \"Can you please post this presentation on the website at your earliest convenience if possible? Just now got this notice at 5 P M. VERY interested in this.\\nThanks!\",\n          \"Remind your partner that you\\u00e2\\u0080\\u0099re thankful to be with them, and that you\\u00e2\\u0080\\u0099re grateful to have company and companionship throughout the outbreak. You don\\u00e2\\u0080\\u0099t have to be overly affectionate\\u00e2\\u0080\\u0094just express yourself in a way that feels genuine to you.  You can say things like: \\n\\n\\u00e2\\u0080\\u009cI love you.\\u00e2\\u0080\\u009d\\n\\u00e2\\u0080\\u009cHaving you here during this ordeal is really comforting.\\u00e2\\u0080\\u009d\\n\\u00e2\\u0080\\u009cThanks for being here for me.\\u00e2\\u0080\\u009d\\n\\u00e2\\u0080\\u009cThank you for making me breakfast. You're always so thoughtful and it brightens my day.\\u00e2\\u0080\\u009d\",\n          \"Yes. You will receive a 1099-G. You have the option to have taxes withheld.\"\n        ],\n        \"semantic_type\": \"\",\n        \"description\": \"\"\n      }\n    }\n  ]\n}",
              "type": "dataframe",
              "variable_name": "df3"
            },
            "text/html": [
              "\n",
              "  <div id=\"df-4a694258-5aca-46c4-8e6d-78b720ceeec3\" class=\"colab-df-container\">\n",
              "    <div>\n",
              "<style scoped>\n",
              "    .dataframe tbody tr th:only-of-type {\n",
              "        vertical-align: middle;\n",
              "    }\n",
              "\n",
              "    .dataframe tbody tr th {\n",
              "        vertical-align: top;\n",
              "    }\n",
              "\n",
              "    .dataframe thead th {\n",
              "        text-align: right;\n",
              "    }\n",
              "</style>\n",
              "<table border=\"1\" class=\"dataframe\">\n",
              "  <thead>\n",
              "    <tr style=\"text-align: right;\">\n",
              "      <th></th>\n",
              "      <th>response</th>\n",
              "      <th>context</th>\n",
              "    </tr>\n",
              "  </thead>\n",
              "  <tbody>\n",
              "    <tr>\n",
              "      <th>0</th>\n",
              "      <td>What are the symptoms?</td>\n",
              "      <td>Symptoms include fever, coughing, sore throat,...</td>\n",
              "    </tr>\n",
              "    <tr>\n",
              "      <th>1</th>\n",
              "      <td>When should I get tested?</td>\n",
              "      <td>Your doctor will tell you if you need to get t...</td>\n",
              "    </tr>\n",
              "    <tr>\n",
              "      <th>2</th>\n",
              "      <td>What's the difference between physical distanc...</td>\n",
              "      <td>As cases of coronavirus surge, health authorit...</td>\n",
              "    </tr>\n",
              "    <tr>\n",
              "      <th>3</th>\n",
              "      <td>How do I practice physical distancing?</td>\n",
              "      <td>If you have been in contact with a person with...</td>\n",
              "    </tr>\n",
              "    <tr>\n",
              "      <th>4</th>\n",
              "      <td>What's closed?</td>\n",
              "      <td>Physical distancing is the reason the Federal ...</td>\n",
              "    </tr>\n",
              "  </tbody>\n",
              "</table>\n",
              "</div>\n",
              "    <div class=\"colab-df-buttons\">\n",
              "\n",
              "  <div class=\"colab-df-container\">\n",
              "    <button class=\"colab-df-convert\" onclick=\"convertToInteractive('df-4a694258-5aca-46c4-8e6d-78b720ceeec3')\"\n",
              "            title=\"Convert this dataframe to an interactive table.\"\n",
              "            style=\"display:none;\">\n",
              "\n",
              "  <svg xmlns=\"http://www.w3.org/2000/svg\" height=\"24px\" viewBox=\"0 -960 960 960\">\n",
              "    <path d=\"M120-120v-720h720v720H120Zm60-500h600v-160H180v160Zm220 220h160v-160H400v160Zm0 220h160v-160H400v160ZM180-400h160v-160H180v160Zm440 0h160v-160H620v160ZM180-180h160v-160H180v160Zm440 0h160v-160H620v160Z\"/>\n",
              "  </svg>\n",
              "    </button>\n",
              "\n",
              "  <style>\n",
              "    .colab-df-container {\n",
              "      display:flex;\n",
              "      gap: 12px;\n",
              "    }\n",
              "\n",
              "    .colab-df-convert {\n",
              "      background-color: #E8F0FE;\n",
              "      border: none;\n",
              "      border-radius: 50%;\n",
              "      cursor: pointer;\n",
              "      display: none;\n",
              "      fill: #1967D2;\n",
              "      height: 32px;\n",
              "      padding: 0 0 0 0;\n",
              "      width: 32px;\n",
              "    }\n",
              "\n",
              "    .colab-df-convert:hover {\n",
              "      background-color: #E2EBFA;\n",
              "      box-shadow: 0px 1px 2px rgba(60, 64, 67, 0.3), 0px 1px 3px 1px rgba(60, 64, 67, 0.15);\n",
              "      fill: #174EA6;\n",
              "    }\n",
              "\n",
              "    .colab-df-buttons div {\n",
              "      margin-bottom: 4px;\n",
              "    }\n",
              "\n",
              "    [theme=dark] .colab-df-convert {\n",
              "      background-color: #3B4455;\n",
              "      fill: #D2E3FC;\n",
              "    }\n",
              "\n",
              "    [theme=dark] .colab-df-convert:hover {\n",
              "      background-color: #434B5C;\n",
              "      box-shadow: 0px 1px 3px 1px rgba(0, 0, 0, 0.15);\n",
              "      filter: drop-shadow(0px 1px 2px rgba(0, 0, 0, 0.3));\n",
              "      fill: #FFFFFF;\n",
              "    }\n",
              "  </style>\n",
              "\n",
              "    <script>\n",
              "      const buttonEl =\n",
              "        document.querySelector('#df-4a694258-5aca-46c4-8e6d-78b720ceeec3 button.colab-df-convert');\n",
              "      buttonEl.style.display =\n",
              "        google.colab.kernel.accessAllowed ? 'block' : 'none';\n",
              "\n",
              "      async function convertToInteractive(key) {\n",
              "        const element = document.querySelector('#df-4a694258-5aca-46c4-8e6d-78b720ceeec3');\n",
              "        const dataTable =\n",
              "          await google.colab.kernel.invokeFunction('convertToInteractive',\n",
              "                                                    [key], {});\n",
              "        if (!dataTable) return;\n",
              "\n",
              "        const docLinkHtml = 'Like what you see? Visit the ' +\n",
              "          '<a target=\"_blank\" href=https://colab.research.google.com/notebooks/data_table.ipynb>data table notebook</a>'\n",
              "          + ' to learn more about interactive tables.';\n",
              "        element.innerHTML = '';\n",
              "        dataTable['output_type'] = 'display_data';\n",
              "        await google.colab.output.renderOutput(dataTable, element);\n",
              "        const docLink = document.createElement('div');\n",
              "        docLink.innerHTML = docLinkHtml;\n",
              "        element.appendChild(docLink);\n",
              "      }\n",
              "    </script>\n",
              "  </div>\n",
              "\n",
              "\n",
              "<div id=\"df-981d48f0-881c-48bc-a4ca-60d450b23c98\">\n",
              "  <button class=\"colab-df-quickchart\" onclick=\"quickchart('df-981d48f0-881c-48bc-a4ca-60d450b23c98')\"\n",
              "            title=\"Suggest charts\"\n",
              "            style=\"display:none;\">\n",
              "\n",
              "<svg xmlns=\"http://www.w3.org/2000/svg\" height=\"24px\"viewBox=\"0 0 24 24\"\n",
              "     width=\"24px\">\n",
              "    <g>\n",
              "        <path d=\"M19 3H5c-1.1 0-2 .9-2 2v14c0 1.1.9 2 2 2h14c1.1 0 2-.9 2-2V5c0-1.1-.9-2-2-2zM9 17H7v-7h2v7zm4 0h-2V7h2v10zm4 0h-2v-4h2v4z\"/>\n",
              "    </g>\n",
              "</svg>\n",
              "  </button>\n",
              "\n",
              "<style>\n",
              "  .colab-df-quickchart {\n",
              "      --bg-color: #E8F0FE;\n",
              "      --fill-color: #1967D2;\n",
              "      --hover-bg-color: #E2EBFA;\n",
              "      --hover-fill-color: #174EA6;\n",
              "      --disabled-fill-color: #AAA;\n",
              "      --disabled-bg-color: #DDD;\n",
              "  }\n",
              "\n",
              "  [theme=dark] .colab-df-quickchart {\n",
              "      --bg-color: #3B4455;\n",
              "      --fill-color: #D2E3FC;\n",
              "      --hover-bg-color: #434B5C;\n",
              "      --hover-fill-color: #FFFFFF;\n",
              "      --disabled-bg-color: #3B4455;\n",
              "      --disabled-fill-color: #666;\n",
              "  }\n",
              "\n",
              "  .colab-df-quickchart {\n",
              "    background-color: var(--bg-color);\n",
              "    border: none;\n",
              "    border-radius: 50%;\n",
              "    cursor: pointer;\n",
              "    display: none;\n",
              "    fill: var(--fill-color);\n",
              "    height: 32px;\n",
              "    padding: 0;\n",
              "    width: 32px;\n",
              "  }\n",
              "\n",
              "  .colab-df-quickchart:hover {\n",
              "    background-color: var(--hover-bg-color);\n",
              "    box-shadow: 0 1px 2px rgba(60, 64, 67, 0.3), 0 1px 3px 1px rgba(60, 64, 67, 0.15);\n",
              "    fill: var(--button-hover-fill-color);\n",
              "  }\n",
              "\n",
              "  .colab-df-quickchart-complete:disabled,\n",
              "  .colab-df-quickchart-complete:disabled:hover {\n",
              "    background-color: var(--disabled-bg-color);\n",
              "    fill: var(--disabled-fill-color);\n",
              "    box-shadow: none;\n",
              "  }\n",
              "\n",
              "  .colab-df-spinner {\n",
              "    border: 2px solid var(--fill-color);\n",
              "    border-color: transparent;\n",
              "    border-bottom-color: var(--fill-color);\n",
              "    animation:\n",
              "      spin 1s steps(1) infinite;\n",
              "  }\n",
              "\n",
              "  @keyframes spin {\n",
              "    0% {\n",
              "      border-color: transparent;\n",
              "      border-bottom-color: var(--fill-color);\n",
              "      border-left-color: var(--fill-color);\n",
              "    }\n",
              "    20% {\n",
              "      border-color: transparent;\n",
              "      border-left-color: var(--fill-color);\n",
              "      border-top-color: var(--fill-color);\n",
              "    }\n",
              "    30% {\n",
              "      border-color: transparent;\n",
              "      border-left-color: var(--fill-color);\n",
              "      border-top-color: var(--fill-color);\n",
              "      border-right-color: var(--fill-color);\n",
              "    }\n",
              "    40% {\n",
              "      border-color: transparent;\n",
              "      border-right-color: var(--fill-color);\n",
              "      border-top-color: var(--fill-color);\n",
              "    }\n",
              "    60% {\n",
              "      border-color: transparent;\n",
              "      border-right-color: var(--fill-color);\n",
              "    }\n",
              "    80% {\n",
              "      border-color: transparent;\n",
              "      border-right-color: var(--fill-color);\n",
              "      border-bottom-color: var(--fill-color);\n",
              "    }\n",
              "    90% {\n",
              "      border-color: transparent;\n",
              "      border-bottom-color: var(--fill-color);\n",
              "    }\n",
              "  }\n",
              "</style>\n",
              "\n",
              "  <script>\n",
              "    async function quickchart(key) {\n",
              "      const quickchartButtonEl =\n",
              "        document.querySelector('#' + key + ' button');\n",
              "      quickchartButtonEl.disabled = true;  // To prevent multiple clicks.\n",
              "      quickchartButtonEl.classList.add('colab-df-spinner');\n",
              "      try {\n",
              "        const charts = await google.colab.kernel.invokeFunction(\n",
              "            'suggestCharts', [key], {});\n",
              "      } catch (error) {\n",
              "        console.error('Error during call to suggestCharts:', error);\n",
              "      }\n",
              "      quickchartButtonEl.classList.remove('colab-df-spinner');\n",
              "      quickchartButtonEl.classList.add('colab-df-quickchart-complete');\n",
              "    }\n",
              "    (() => {\n",
              "      let quickchartButtonEl =\n",
              "        document.querySelector('#df-981d48f0-881c-48bc-a4ca-60d450b23c98 button');\n",
              "      quickchartButtonEl.style.display =\n",
              "        google.colab.kernel.accessAllowed ? 'block' : 'none';\n",
              "    })();\n",
              "  </script>\n",
              "</div>\n",
              "\n",
              "    </div>\n",
              "  </div>\n"
            ],
            "text/plain": [
              "                                            response  \\\n",
              "0                             What are the symptoms?   \n",
              "1                          When should I get tested?   \n",
              "2  What's the difference between physical distanc...   \n",
              "3             How do I practice physical distancing?   \n",
              "4                                     What's closed?   \n",
              "\n",
              "                                             context  \n",
              "0  Symptoms include fever, coughing, sore throat,...  \n",
              "1  Your doctor will tell you if you need to get t...  \n",
              "2  As cases of coronavirus surge, health authorit...  \n",
              "3  If you have been in contact with a person with...  \n",
              "4  Physical distancing is the reason the Federal ...  "
            ]
          },
          "execution_count": 7,
          "metadata": {},
          "output_type": "execute_result"
        }
      ],
      "source": [
        "df3.head()"
      ]
    },
    {
      "cell_type": "code",
      "execution_count": null,
      "id": "aa17741c",
      "metadata": {
        "colab": {
          "base_uri": "https://localhost:8080/"
        },
        "id": "aa17741c",
        "outputId": "43c33758-ccb1-4911-be42-55336beb01df"
      },
      "outputs": [
        {
          "name": "stdout",
          "output_type": "stream",
          "text": [
            "Index(['response', 'context'], dtype='object')\n"
          ]
        }
      ],
      "source": [
        "print(df3.columns)"
      ]
    },
    {
      "cell_type": "code",
      "execution_count": null,
      "id": "efeec388",
      "metadata": {
        "id": "efeec388"
      },
      "outputs": [],
      "source": [
        "df3.rename(columns = {'response': 'questions', 'context': 'answers'}, inplace=True)"
      ]
    },
    {
      "cell_type": "code",
      "execution_count": null,
      "id": "e0890256",
      "metadata": {
        "colab": {
          "base_uri": "https://localhost:8080/",
          "height": 226
        },
        "id": "e0890256",
        "outputId": "d2d66d08-4031-4d6d-efa6-5802e5a5289c"
      },
      "outputs": [
        {
          "data": {
            "application/vnd.google.colaboratory.intrinsic+json": {
              "summary": "{\n  \"name\": \"df3\",\n  \"rows\": 11181,\n  \"fields\": [\n    {\n      \"column\": \"questions\",\n      \"properties\": {\n        \"dtype\": \"string\",\n        \"num_unique_values\": 9051,\n        \"samples\": [\n          \"How prepared is Germany?\\n\",\n          \"How is testing serology different from testing for the virus with a nasal swab test?\",\n          \"Place 2 hair ties about 2\\u00c2\\u00a0in (5.1\\u00c2\\u00a0cm) inwards from each side.\"\n        ],\n        \"semantic_type\": \"\",\n        \"description\": \"\"\n      }\n    },\n    {\n      \"column\": \"answers\",\n      \"properties\": {\n        \"dtype\": \"string\",\n        \"num_unique_values\": 10266,\n        \"samples\": [\n          \"Can you please post this presentation on the website at your earliest convenience if possible? Just now got this notice at 5 P M. VERY interested in this.\\nThanks!\",\n          \"Remind your partner that you\\u00e2\\u0080\\u0099re thankful to be with them, and that you\\u00e2\\u0080\\u0099re grateful to have company and companionship throughout the outbreak. You don\\u00e2\\u0080\\u0099t have to be overly affectionate\\u00e2\\u0080\\u0094just express yourself in a way that feels genuine to you.  You can say things like: \\n\\n\\u00e2\\u0080\\u009cI love you.\\u00e2\\u0080\\u009d\\n\\u00e2\\u0080\\u009cHaving you here during this ordeal is really comforting.\\u00e2\\u0080\\u009d\\n\\u00e2\\u0080\\u009cThanks for being here for me.\\u00e2\\u0080\\u009d\\n\\u00e2\\u0080\\u009cThank you for making me breakfast. You're always so thoughtful and it brightens my day.\\u00e2\\u0080\\u009d\",\n          \"Yes. You will receive a 1099-G. You have the option to have taxes withheld.\"\n        ],\n        \"semantic_type\": \"\",\n        \"description\": \"\"\n      }\n    }\n  ]\n}",
              "type": "dataframe",
              "variable_name": "df3"
            },
            "text/html": [
              "\n",
              "  <div id=\"df-a7f87cfc-fb62-4ce2-b570-81aaa912cc66\" class=\"colab-df-container\">\n",
              "    <div>\n",
              "<style scoped>\n",
              "    .dataframe tbody tr th:only-of-type {\n",
              "        vertical-align: middle;\n",
              "    }\n",
              "\n",
              "    .dataframe tbody tr th {\n",
              "        vertical-align: top;\n",
              "    }\n",
              "\n",
              "    .dataframe thead th {\n",
              "        text-align: right;\n",
              "    }\n",
              "</style>\n",
              "<table border=\"1\" class=\"dataframe\">\n",
              "  <thead>\n",
              "    <tr style=\"text-align: right;\">\n",
              "      <th></th>\n",
              "      <th>questions</th>\n",
              "      <th>answers</th>\n",
              "    </tr>\n",
              "  </thead>\n",
              "  <tbody>\n",
              "    <tr>\n",
              "      <th>0</th>\n",
              "      <td>What are the symptoms?</td>\n",
              "      <td>Symptoms include fever, coughing, sore throat,...</td>\n",
              "    </tr>\n",
              "    <tr>\n",
              "      <th>1</th>\n",
              "      <td>When should I get tested?</td>\n",
              "      <td>Your doctor will tell you if you need to get t...</td>\n",
              "    </tr>\n",
              "    <tr>\n",
              "      <th>2</th>\n",
              "      <td>What's the difference between physical distanc...</td>\n",
              "      <td>As cases of coronavirus surge, health authorit...</td>\n",
              "    </tr>\n",
              "    <tr>\n",
              "      <th>3</th>\n",
              "      <td>How do I practice physical distancing?</td>\n",
              "      <td>If you have been in contact with a person with...</td>\n",
              "    </tr>\n",
              "    <tr>\n",
              "      <th>4</th>\n",
              "      <td>What's closed?</td>\n",
              "      <td>Physical distancing is the reason the Federal ...</td>\n",
              "    </tr>\n",
              "  </tbody>\n",
              "</table>\n",
              "</div>\n",
              "    <div class=\"colab-df-buttons\">\n",
              "\n",
              "  <div class=\"colab-df-container\">\n",
              "    <button class=\"colab-df-convert\" onclick=\"convertToInteractive('df-a7f87cfc-fb62-4ce2-b570-81aaa912cc66')\"\n",
              "            title=\"Convert this dataframe to an interactive table.\"\n",
              "            style=\"display:none;\">\n",
              "\n",
              "  <svg xmlns=\"http://www.w3.org/2000/svg\" height=\"24px\" viewBox=\"0 -960 960 960\">\n",
              "    <path d=\"M120-120v-720h720v720H120Zm60-500h600v-160H180v160Zm220 220h160v-160H400v160Zm0 220h160v-160H400v160ZM180-400h160v-160H180v160Zm440 0h160v-160H620v160ZM180-180h160v-160H180v160Zm440 0h160v-160H620v160Z\"/>\n",
              "  </svg>\n",
              "    </button>\n",
              "\n",
              "  <style>\n",
              "    .colab-df-container {\n",
              "      display:flex;\n",
              "      gap: 12px;\n",
              "    }\n",
              "\n",
              "    .colab-df-convert {\n",
              "      background-color: #E8F0FE;\n",
              "      border: none;\n",
              "      border-radius: 50%;\n",
              "      cursor: pointer;\n",
              "      display: none;\n",
              "      fill: #1967D2;\n",
              "      height: 32px;\n",
              "      padding: 0 0 0 0;\n",
              "      width: 32px;\n",
              "    }\n",
              "\n",
              "    .colab-df-convert:hover {\n",
              "      background-color: #E2EBFA;\n",
              "      box-shadow: 0px 1px 2px rgba(60, 64, 67, 0.3), 0px 1px 3px 1px rgba(60, 64, 67, 0.15);\n",
              "      fill: #174EA6;\n",
              "    }\n",
              "\n",
              "    .colab-df-buttons div {\n",
              "      margin-bottom: 4px;\n",
              "    }\n",
              "\n",
              "    [theme=dark] .colab-df-convert {\n",
              "      background-color: #3B4455;\n",
              "      fill: #D2E3FC;\n",
              "    }\n",
              "\n",
              "    [theme=dark] .colab-df-convert:hover {\n",
              "      background-color: #434B5C;\n",
              "      box-shadow: 0px 1px 3px 1px rgba(0, 0, 0, 0.15);\n",
              "      filter: drop-shadow(0px 1px 2px rgba(0, 0, 0, 0.3));\n",
              "      fill: #FFFFFF;\n",
              "    }\n",
              "  </style>\n",
              "\n",
              "    <script>\n",
              "      const buttonEl =\n",
              "        document.querySelector('#df-a7f87cfc-fb62-4ce2-b570-81aaa912cc66 button.colab-df-convert');\n",
              "      buttonEl.style.display =\n",
              "        google.colab.kernel.accessAllowed ? 'block' : 'none';\n",
              "\n",
              "      async function convertToInteractive(key) {\n",
              "        const element = document.querySelector('#df-a7f87cfc-fb62-4ce2-b570-81aaa912cc66');\n",
              "        const dataTable =\n",
              "          await google.colab.kernel.invokeFunction('convertToInteractive',\n",
              "                                                    [key], {});\n",
              "        if (!dataTable) return;\n",
              "\n",
              "        const docLinkHtml = 'Like what you see? Visit the ' +\n",
              "          '<a target=\"_blank\" href=https://colab.research.google.com/notebooks/data_table.ipynb>data table notebook</a>'\n",
              "          + ' to learn more about interactive tables.';\n",
              "        element.innerHTML = '';\n",
              "        dataTable['output_type'] = 'display_data';\n",
              "        await google.colab.output.renderOutput(dataTable, element);\n",
              "        const docLink = document.createElement('div');\n",
              "        docLink.innerHTML = docLinkHtml;\n",
              "        element.appendChild(docLink);\n",
              "      }\n",
              "    </script>\n",
              "  </div>\n",
              "\n",
              "\n",
              "<div id=\"df-b0f9d256-a625-424b-9613-6a08b6ff3c10\">\n",
              "  <button class=\"colab-df-quickchart\" onclick=\"quickchart('df-b0f9d256-a625-424b-9613-6a08b6ff3c10')\"\n",
              "            title=\"Suggest charts\"\n",
              "            style=\"display:none;\">\n",
              "\n",
              "<svg xmlns=\"http://www.w3.org/2000/svg\" height=\"24px\"viewBox=\"0 0 24 24\"\n",
              "     width=\"24px\">\n",
              "    <g>\n",
              "        <path d=\"M19 3H5c-1.1 0-2 .9-2 2v14c0 1.1.9 2 2 2h14c1.1 0 2-.9 2-2V5c0-1.1-.9-2-2-2zM9 17H7v-7h2v7zm4 0h-2V7h2v10zm4 0h-2v-4h2v4z\"/>\n",
              "    </g>\n",
              "</svg>\n",
              "  </button>\n",
              "\n",
              "<style>\n",
              "  .colab-df-quickchart {\n",
              "      --bg-color: #E8F0FE;\n",
              "      --fill-color: #1967D2;\n",
              "      --hover-bg-color: #E2EBFA;\n",
              "      --hover-fill-color: #174EA6;\n",
              "      --disabled-fill-color: #AAA;\n",
              "      --disabled-bg-color: #DDD;\n",
              "  }\n",
              "\n",
              "  [theme=dark] .colab-df-quickchart {\n",
              "      --bg-color: #3B4455;\n",
              "      --fill-color: #D2E3FC;\n",
              "      --hover-bg-color: #434B5C;\n",
              "      --hover-fill-color: #FFFFFF;\n",
              "      --disabled-bg-color: #3B4455;\n",
              "      --disabled-fill-color: #666;\n",
              "  }\n",
              "\n",
              "  .colab-df-quickchart {\n",
              "    background-color: var(--bg-color);\n",
              "    border: none;\n",
              "    border-radius: 50%;\n",
              "    cursor: pointer;\n",
              "    display: none;\n",
              "    fill: var(--fill-color);\n",
              "    height: 32px;\n",
              "    padding: 0;\n",
              "    width: 32px;\n",
              "  }\n",
              "\n",
              "  .colab-df-quickchart:hover {\n",
              "    background-color: var(--hover-bg-color);\n",
              "    box-shadow: 0 1px 2px rgba(60, 64, 67, 0.3), 0 1px 3px 1px rgba(60, 64, 67, 0.15);\n",
              "    fill: var(--button-hover-fill-color);\n",
              "  }\n",
              "\n",
              "  .colab-df-quickchart-complete:disabled,\n",
              "  .colab-df-quickchart-complete:disabled:hover {\n",
              "    background-color: var(--disabled-bg-color);\n",
              "    fill: var(--disabled-fill-color);\n",
              "    box-shadow: none;\n",
              "  }\n",
              "\n",
              "  .colab-df-spinner {\n",
              "    border: 2px solid var(--fill-color);\n",
              "    border-color: transparent;\n",
              "    border-bottom-color: var(--fill-color);\n",
              "    animation:\n",
              "      spin 1s steps(1) infinite;\n",
              "  }\n",
              "\n",
              "  @keyframes spin {\n",
              "    0% {\n",
              "      border-color: transparent;\n",
              "      border-bottom-color: var(--fill-color);\n",
              "      border-left-color: var(--fill-color);\n",
              "    }\n",
              "    20% {\n",
              "      border-color: transparent;\n",
              "      border-left-color: var(--fill-color);\n",
              "      border-top-color: var(--fill-color);\n",
              "    }\n",
              "    30% {\n",
              "      border-color: transparent;\n",
              "      border-left-color: var(--fill-color);\n",
              "      border-top-color: var(--fill-color);\n",
              "      border-right-color: var(--fill-color);\n",
              "    }\n",
              "    40% {\n",
              "      border-color: transparent;\n",
              "      border-right-color: var(--fill-color);\n",
              "      border-top-color: var(--fill-color);\n",
              "    }\n",
              "    60% {\n",
              "      border-color: transparent;\n",
              "      border-right-color: var(--fill-color);\n",
              "    }\n",
              "    80% {\n",
              "      border-color: transparent;\n",
              "      border-right-color: var(--fill-color);\n",
              "      border-bottom-color: var(--fill-color);\n",
              "    }\n",
              "    90% {\n",
              "      border-color: transparent;\n",
              "      border-bottom-color: var(--fill-color);\n",
              "    }\n",
              "  }\n",
              "</style>\n",
              "\n",
              "  <script>\n",
              "    async function quickchart(key) {\n",
              "      const quickchartButtonEl =\n",
              "        document.querySelector('#' + key + ' button');\n",
              "      quickchartButtonEl.disabled = true;  // To prevent multiple clicks.\n",
              "      quickchartButtonEl.classList.add('colab-df-spinner');\n",
              "      try {\n",
              "        const charts = await google.colab.kernel.invokeFunction(\n",
              "            'suggestCharts', [key], {});\n",
              "      } catch (error) {\n",
              "        console.error('Error during call to suggestCharts:', error);\n",
              "      }\n",
              "      quickchartButtonEl.classList.remove('colab-df-spinner');\n",
              "      quickchartButtonEl.classList.add('colab-df-quickchart-complete');\n",
              "    }\n",
              "    (() => {\n",
              "      let quickchartButtonEl =\n",
              "        document.querySelector('#df-b0f9d256-a625-424b-9613-6a08b6ff3c10 button');\n",
              "      quickchartButtonEl.style.display =\n",
              "        google.colab.kernel.accessAllowed ? 'block' : 'none';\n",
              "    })();\n",
              "  </script>\n",
              "</div>\n",
              "\n",
              "    </div>\n",
              "  </div>\n"
            ],
            "text/plain": [
              "                                           questions  \\\n",
              "0                             What are the symptoms?   \n",
              "1                          When should I get tested?   \n",
              "2  What's the difference between physical distanc...   \n",
              "3             How do I practice physical distancing?   \n",
              "4                                     What's closed?   \n",
              "\n",
              "                                             answers  \n",
              "0  Symptoms include fever, coughing, sore throat,...  \n",
              "1  Your doctor will tell you if you need to get t...  \n",
              "2  As cases of coronavirus surge, health authorit...  \n",
              "3  If you have been in contact with a person with...  \n",
              "4  Physical distancing is the reason the Federal ...  "
            ]
          },
          "execution_count": 10,
          "metadata": {},
          "output_type": "execute_result"
        }
      ],
      "source": [
        "df3.head()"
      ]
    },
    {
      "cell_type": "code",
      "execution_count": null,
      "id": "c9db31c6",
      "metadata": {
        "id": "c9db31c6"
      },
      "outputs": [],
      "source": [
        "df = pd.concat([df1, df2, df3])"
      ]
    },
    {
      "cell_type": "code",
      "execution_count": null,
      "id": "ed317441",
      "metadata": {
        "colab": {
          "base_uri": "https://localhost:8080/"
        },
        "id": "ed317441",
        "outputId": "95359958-9358-415c-e5b1-60ca98c23711"
      },
      "outputs": [
        {
          "name": "stdout",
          "output_type": "stream",
          "text": [
            "where covid originate\n",
            "early on, many of the patients at the epicenter of the covid outbreak in china had some link to a large seafood and live animal market, suggesting animal to person spread., wuhan city, china\n"
          ]
        }
      ],
      "source": [
        "k = -900\n",
        "print(df.questions.iloc[k])\n",
        "print(df.answers.iloc[k])"
      ]
    },
    {
      "cell_type": "code",
      "execution_count": null,
      "id": "b0a320a3",
      "metadata": {
        "id": "b0a320a3"
      },
      "outputs": [],
      "source": [
        "df = df.iloc[:-900, :]"
      ]
    },
    {
      "cell_type": "code",
      "execution_count": null,
      "id": "2a6710b7",
      "metadata": {
        "colab": {
          "base_uri": "https://localhost:8080/",
          "height": 443
        },
        "id": "2a6710b7",
        "outputId": "bcfcd57c-e404-49d5-ca4c-397c50f4be41"
      },
      "outputs": [
        {
          "data": {
            "application/vnd.google.colaboratory.intrinsic+json": {
              "summary": "{\n  \"name\": \"df\",\n  \"rows\": 10465,\n  \"fields\": [\n    {\n      \"column\": \"questions\",\n      \"properties\": {\n        \"dtype\": \"string\",\n        \"num_unique_values\": 8243,\n        \"samples\": [\n          \"My organization is experiencing a supply  shortage of N95 filtering facepiece respirators. What alternatives are  available if N95s are required to protect my employees?\",\n          \"I'm pregnant. How can I protect myself against COVID-19?\",\n          \"Disinfect high-touch spaces in your home daily.\"\n        ],\n        \"semantic_type\": \"\",\n        \"description\": \"\"\n      }\n    },\n    {\n      \"column\": \"answers\",\n      \"properties\": {\n        \"dtype\": \"string\",\n        \"num_unique_values\": 9966,\n        \"samples\": [\n          \"If you do any work from the computer, ask your boss if you can put in some hours from home. Social distancing can sound like a fun excuse to get out of work for a while, but once boredom starts to set in, you'll probably start to miss your daily work routine. \\nIn addition to helping you pass some time, working remotely may help to ease some of your anxiety about the financial impact of social distancing.\",\n          \"Think about what you believe you can handle and plan it. This helps you manage your time and keep realistic expectations. You can also budget your time for the day if you like breaking things down further. \\nDon't work late if you don't meet your daily goals. You need to give yourself breaks. Recognize that the task will take longer than you thought, and plan to work on it more tomorrow.\",\n          \" After careful consideration, AHCCCS has directed HSAG to suspend all medical record procurement and abstraction activities for the CYE 2018 Hybrid Performance Measure Calculations. At this time, AHCCCS is prioritizing MCO and provider response to COVID-19. Once the COVID-19 emergency response has passed, AHCCCS will re-evaluate project timelines and determine next steps for hybrid audits.\"\n        ],\n        \"semantic_type\": \"\",\n        \"description\": \"\"\n      }\n    }\n  ]\n}",
              "type": "dataframe",
              "variable_name": "df"
            },
            "text/html": [
              "\n",
              "  <div id=\"df-0568be32-7e0e-4075-98ff-6941284a363c\" class=\"colab-df-container\">\n",
              "    <div>\n",
              "<style scoped>\n",
              "    .dataframe tbody tr th:only-of-type {\n",
              "        vertical-align: middle;\n",
              "    }\n",
              "\n",
              "    .dataframe tbody tr th {\n",
              "        vertical-align: top;\n",
              "    }\n",
              "\n",
              "    .dataframe thead th {\n",
              "        text-align: right;\n",
              "    }\n",
              "</style>\n",
              "<table border=\"1\" class=\"dataframe\">\n",
              "  <thead>\n",
              "    <tr style=\"text-align: right;\">\n",
              "      <th></th>\n",
              "      <th>questions</th>\n",
              "      <th>answers</th>\n",
              "    </tr>\n",
              "  </thead>\n",
              "  <tbody>\n",
              "    <tr>\n",
              "      <th>0</th>\n",
              "      <td>What is a novel coronavirus?</td>\n",
              "      <td>A novel coronavirus is a new coronavirus that ...</td>\n",
              "    </tr>\n",
              "    <tr>\n",
              "      <th>1</th>\n",
              "      <td>Why is the disease being called coronavirus di...</td>\n",
              "      <td>On February 11, 2020 the World Health Organiza...</td>\n",
              "    </tr>\n",
              "    <tr>\n",
              "      <th>2</th>\n",
              "      <td>How does the virus spread?</td>\n",
              "      <td>The virus that causes COVID-19 is thought to s...</td>\n",
              "    </tr>\n",
              "    <tr>\n",
              "      <th>3</th>\n",
              "      <td>Can I get COVID-19 from food (including restau...</td>\n",
              "      <td>Currently there is no evidence that people can...</td>\n",
              "    </tr>\n",
              "    <tr>\n",
              "      <th>4</th>\n",
              "      <td>Will warm weather stop the outbreak of COVID-19?</td>\n",
              "      <td>It is not yet known whether weather and temper...</td>\n",
              "    </tr>\n",
              "    <tr>\n",
              "      <th>...</th>\n",
              "      <td>...</td>\n",
              "      <td>...</td>\n",
              "    </tr>\n",
              "    <tr>\n",
              "      <th>10276</th>\n",
              "      <td>where covid really come from</td>\n",
              "      <td>early on, many of the patients at the epicente...</td>\n",
              "    </tr>\n",
              "    <tr>\n",
              "      <th>10277</th>\n",
              "      <td>where covid come from</td>\n",
              "      <td>early on, many of the patients at the epicente...</td>\n",
              "    </tr>\n",
              "    <tr>\n",
              "      <th>10278</th>\n",
              "      <td>where covid started</td>\n",
              "      <td>early on, many of the patients at the epicente...</td>\n",
              "    </tr>\n",
              "    <tr>\n",
              "      <th>10279</th>\n",
              "      <td>what is the source of the virus</td>\n",
              "      <td>early on, many of the patients at the epicente...</td>\n",
              "    </tr>\n",
              "    <tr>\n",
              "      <th>10280</th>\n",
              "      <td>where did covid originate</td>\n",
              "      <td>early on, many of the patients at the epicente...</td>\n",
              "    </tr>\n",
              "  </tbody>\n",
              "</table>\n",
              "<p>10465 rows × 2 columns</p>\n",
              "</div>\n",
              "    <div class=\"colab-df-buttons\">\n",
              "\n",
              "  <div class=\"colab-df-container\">\n",
              "    <button class=\"colab-df-convert\" onclick=\"convertToInteractive('df-0568be32-7e0e-4075-98ff-6941284a363c')\"\n",
              "            title=\"Convert this dataframe to an interactive table.\"\n",
              "            style=\"display:none;\">\n",
              "\n",
              "  <svg xmlns=\"http://www.w3.org/2000/svg\" height=\"24px\" viewBox=\"0 -960 960 960\">\n",
              "    <path d=\"M120-120v-720h720v720H120Zm60-500h600v-160H180v160Zm220 220h160v-160H400v160Zm0 220h160v-160H400v160ZM180-400h160v-160H180v160Zm440 0h160v-160H620v160ZM180-180h160v-160H180v160Zm440 0h160v-160H620v160Z\"/>\n",
              "  </svg>\n",
              "    </button>\n",
              "\n",
              "  <style>\n",
              "    .colab-df-container {\n",
              "      display:flex;\n",
              "      gap: 12px;\n",
              "    }\n",
              "\n",
              "    .colab-df-convert {\n",
              "      background-color: #E8F0FE;\n",
              "      border: none;\n",
              "      border-radius: 50%;\n",
              "      cursor: pointer;\n",
              "      display: none;\n",
              "      fill: #1967D2;\n",
              "      height: 32px;\n",
              "      padding: 0 0 0 0;\n",
              "      width: 32px;\n",
              "    }\n",
              "\n",
              "    .colab-df-convert:hover {\n",
              "      background-color: #E2EBFA;\n",
              "      box-shadow: 0px 1px 2px rgba(60, 64, 67, 0.3), 0px 1px 3px 1px rgba(60, 64, 67, 0.15);\n",
              "      fill: #174EA6;\n",
              "    }\n",
              "\n",
              "    .colab-df-buttons div {\n",
              "      margin-bottom: 4px;\n",
              "    }\n",
              "\n",
              "    [theme=dark] .colab-df-convert {\n",
              "      background-color: #3B4455;\n",
              "      fill: #D2E3FC;\n",
              "    }\n",
              "\n",
              "    [theme=dark] .colab-df-convert:hover {\n",
              "      background-color: #434B5C;\n",
              "      box-shadow: 0px 1px 3px 1px rgba(0, 0, 0, 0.15);\n",
              "      filter: drop-shadow(0px 1px 2px rgba(0, 0, 0, 0.3));\n",
              "      fill: #FFFFFF;\n",
              "    }\n",
              "  </style>\n",
              "\n",
              "    <script>\n",
              "      const buttonEl =\n",
              "        document.querySelector('#df-0568be32-7e0e-4075-98ff-6941284a363c button.colab-df-convert');\n",
              "      buttonEl.style.display =\n",
              "        google.colab.kernel.accessAllowed ? 'block' : 'none';\n",
              "\n",
              "      async function convertToInteractive(key) {\n",
              "        const element = document.querySelector('#df-0568be32-7e0e-4075-98ff-6941284a363c');\n",
              "        const dataTable =\n",
              "          await google.colab.kernel.invokeFunction('convertToInteractive',\n",
              "                                                    [key], {});\n",
              "        if (!dataTable) return;\n",
              "\n",
              "        const docLinkHtml = 'Like what you see? Visit the ' +\n",
              "          '<a target=\"_blank\" href=https://colab.research.google.com/notebooks/data_table.ipynb>data table notebook</a>'\n",
              "          + ' to learn more about interactive tables.';\n",
              "        element.innerHTML = '';\n",
              "        dataTable['output_type'] = 'display_data';\n",
              "        await google.colab.output.renderOutput(dataTable, element);\n",
              "        const docLink = document.createElement('div');\n",
              "        docLink.innerHTML = docLinkHtml;\n",
              "        element.appendChild(docLink);\n",
              "      }\n",
              "    </script>\n",
              "  </div>\n",
              "\n",
              "\n",
              "<div id=\"df-a6b5faae-307e-4e10-bc77-22d60c9ed5d2\">\n",
              "  <button class=\"colab-df-quickchart\" onclick=\"quickchart('df-a6b5faae-307e-4e10-bc77-22d60c9ed5d2')\"\n",
              "            title=\"Suggest charts\"\n",
              "            style=\"display:none;\">\n",
              "\n",
              "<svg xmlns=\"http://www.w3.org/2000/svg\" height=\"24px\"viewBox=\"0 0 24 24\"\n",
              "     width=\"24px\">\n",
              "    <g>\n",
              "        <path d=\"M19 3H5c-1.1 0-2 .9-2 2v14c0 1.1.9 2 2 2h14c1.1 0 2-.9 2-2V5c0-1.1-.9-2-2-2zM9 17H7v-7h2v7zm4 0h-2V7h2v10zm4 0h-2v-4h2v4z\"/>\n",
              "    </g>\n",
              "</svg>\n",
              "  </button>\n",
              "\n",
              "<style>\n",
              "  .colab-df-quickchart {\n",
              "      --bg-color: #E8F0FE;\n",
              "      --fill-color: #1967D2;\n",
              "      --hover-bg-color: #E2EBFA;\n",
              "      --hover-fill-color: #174EA6;\n",
              "      --disabled-fill-color: #AAA;\n",
              "      --disabled-bg-color: #DDD;\n",
              "  }\n",
              "\n",
              "  [theme=dark] .colab-df-quickchart {\n",
              "      --bg-color: #3B4455;\n",
              "      --fill-color: #D2E3FC;\n",
              "      --hover-bg-color: #434B5C;\n",
              "      --hover-fill-color: #FFFFFF;\n",
              "      --disabled-bg-color: #3B4455;\n",
              "      --disabled-fill-color: #666;\n",
              "  }\n",
              "\n",
              "  .colab-df-quickchart {\n",
              "    background-color: var(--bg-color);\n",
              "    border: none;\n",
              "    border-radius: 50%;\n",
              "    cursor: pointer;\n",
              "    display: none;\n",
              "    fill: var(--fill-color);\n",
              "    height: 32px;\n",
              "    padding: 0;\n",
              "    width: 32px;\n",
              "  }\n",
              "\n",
              "  .colab-df-quickchart:hover {\n",
              "    background-color: var(--hover-bg-color);\n",
              "    box-shadow: 0 1px 2px rgba(60, 64, 67, 0.3), 0 1px 3px 1px rgba(60, 64, 67, 0.15);\n",
              "    fill: var(--button-hover-fill-color);\n",
              "  }\n",
              "\n",
              "  .colab-df-quickchart-complete:disabled,\n",
              "  .colab-df-quickchart-complete:disabled:hover {\n",
              "    background-color: var(--disabled-bg-color);\n",
              "    fill: var(--disabled-fill-color);\n",
              "    box-shadow: none;\n",
              "  }\n",
              "\n",
              "  .colab-df-spinner {\n",
              "    border: 2px solid var(--fill-color);\n",
              "    border-color: transparent;\n",
              "    border-bottom-color: var(--fill-color);\n",
              "    animation:\n",
              "      spin 1s steps(1) infinite;\n",
              "  }\n",
              "\n",
              "  @keyframes spin {\n",
              "    0% {\n",
              "      border-color: transparent;\n",
              "      border-bottom-color: var(--fill-color);\n",
              "      border-left-color: var(--fill-color);\n",
              "    }\n",
              "    20% {\n",
              "      border-color: transparent;\n",
              "      border-left-color: var(--fill-color);\n",
              "      border-top-color: var(--fill-color);\n",
              "    }\n",
              "    30% {\n",
              "      border-color: transparent;\n",
              "      border-left-color: var(--fill-color);\n",
              "      border-top-color: var(--fill-color);\n",
              "      border-right-color: var(--fill-color);\n",
              "    }\n",
              "    40% {\n",
              "      border-color: transparent;\n",
              "      border-right-color: var(--fill-color);\n",
              "      border-top-color: var(--fill-color);\n",
              "    }\n",
              "    60% {\n",
              "      border-color: transparent;\n",
              "      border-right-color: var(--fill-color);\n",
              "    }\n",
              "    80% {\n",
              "      border-color: transparent;\n",
              "      border-right-color: var(--fill-color);\n",
              "      border-bottom-color: var(--fill-color);\n",
              "    }\n",
              "    90% {\n",
              "      border-color: transparent;\n",
              "      border-bottom-color: var(--fill-color);\n",
              "    }\n",
              "  }\n",
              "</style>\n",
              "\n",
              "  <script>\n",
              "    async function quickchart(key) {\n",
              "      const quickchartButtonEl =\n",
              "        document.querySelector('#' + key + ' button');\n",
              "      quickchartButtonEl.disabled = true;  // To prevent multiple clicks.\n",
              "      quickchartButtonEl.classList.add('colab-df-spinner');\n",
              "      try {\n",
              "        const charts = await google.colab.kernel.invokeFunction(\n",
              "            'suggestCharts', [key], {});\n",
              "      } catch (error) {\n",
              "        console.error('Error during call to suggestCharts:', error);\n",
              "      }\n",
              "      quickchartButtonEl.classList.remove('colab-df-spinner');\n",
              "      quickchartButtonEl.classList.add('colab-df-quickchart-complete');\n",
              "    }\n",
              "    (() => {\n",
              "      let quickchartButtonEl =\n",
              "        document.querySelector('#df-a6b5faae-307e-4e10-bc77-22d60c9ed5d2 button');\n",
              "      quickchartButtonEl.style.display =\n",
              "        google.colab.kernel.accessAllowed ? 'block' : 'none';\n",
              "    })();\n",
              "  </script>\n",
              "</div>\n",
              "\n",
              "  <div id=\"id_215b1fde-a1ae-43a8-b659-7fd0e3fb273e\">\n",
              "    <style>\n",
              "      .colab-df-generate {\n",
              "        background-color: #E8F0FE;\n",
              "        border: none;\n",
              "        border-radius: 50%;\n",
              "        cursor: pointer;\n",
              "        display: none;\n",
              "        fill: #1967D2;\n",
              "        height: 32px;\n",
              "        padding: 0 0 0 0;\n",
              "        width: 32px;\n",
              "      }\n",
              "\n",
              "      .colab-df-generate:hover {\n",
              "        background-color: #E2EBFA;\n",
              "        box-shadow: 0px 1px 2px rgba(60, 64, 67, 0.3), 0px 1px 3px 1px rgba(60, 64, 67, 0.15);\n",
              "        fill: #174EA6;\n",
              "      }\n",
              "\n",
              "      [theme=dark] .colab-df-generate {\n",
              "        background-color: #3B4455;\n",
              "        fill: #D2E3FC;\n",
              "      }\n",
              "\n",
              "      [theme=dark] .colab-df-generate:hover {\n",
              "        background-color: #434B5C;\n",
              "        box-shadow: 0px 1px 3px 1px rgba(0, 0, 0, 0.15);\n",
              "        filter: drop-shadow(0px 1px 2px rgba(0, 0, 0, 0.3));\n",
              "        fill: #FFFFFF;\n",
              "      }\n",
              "    </style>\n",
              "    <button class=\"colab-df-generate\" onclick=\"generateWithVariable('df')\"\n",
              "            title=\"Generate code using this dataframe.\"\n",
              "            style=\"display:none;\">\n",
              "\n",
              "  <svg xmlns=\"http://www.w3.org/2000/svg\" height=\"24px\"viewBox=\"0 0 24 24\"\n",
              "       width=\"24px\">\n",
              "    <path d=\"M7,19H8.4L18.45,9,17,7.55,7,17.6ZM5,21V16.75L18.45,3.32a2,2,0,0,1,2.83,0l1.4,1.43a1.91,1.91,0,0,1,.58,1.4,1.91,1.91,0,0,1-.58,1.4L9.25,21ZM18.45,9,17,7.55Zm-12,3A5.31,5.31,0,0,0,4.9,8.1,5.31,5.31,0,0,0,1,6.5,5.31,5.31,0,0,0,4.9,4.9,5.31,5.31,0,0,0,6.5,1,5.31,5.31,0,0,0,8.1,4.9,5.31,5.31,0,0,0,12,6.5,5.46,5.46,0,0,0,6.5,12Z\"/>\n",
              "  </svg>\n",
              "    </button>\n",
              "    <script>\n",
              "      (() => {\n",
              "      const buttonEl =\n",
              "        document.querySelector('#id_215b1fde-a1ae-43a8-b659-7fd0e3fb273e button.colab-df-generate');\n",
              "      buttonEl.style.display =\n",
              "        google.colab.kernel.accessAllowed ? 'block' : 'none';\n",
              "\n",
              "      buttonEl.onclick = () => {\n",
              "        google.colab.notebook.generateWithVariable('df');\n",
              "      }\n",
              "      })();\n",
              "    </script>\n",
              "  </div>\n",
              "\n",
              "    </div>\n",
              "  </div>\n"
            ],
            "text/plain": [
              "                                               questions  \\\n",
              "0                           What is a novel coronavirus?   \n",
              "1      Why is the disease being called coronavirus di...   \n",
              "2                             How does the virus spread?   \n",
              "3      Can I get COVID-19 from food (including restau...   \n",
              "4       Will warm weather stop the outbreak of COVID-19?   \n",
              "...                                                  ...   \n",
              "10276                       where covid really come from   \n",
              "10277                              where covid come from   \n",
              "10278                                where covid started   \n",
              "10279                    what is the source of the virus   \n",
              "10280                          where did covid originate   \n",
              "\n",
              "                                                 answers  \n",
              "0      A novel coronavirus is a new coronavirus that ...  \n",
              "1      On February 11, 2020 the World Health Organiza...  \n",
              "2      The virus that causes COVID-19 is thought to s...  \n",
              "3      Currently there is no evidence that people can...  \n",
              "4      It is not yet known whether weather and temper...  \n",
              "...                                                  ...  \n",
              "10276  early on, many of the patients at the epicente...  \n",
              "10277  early on, many of the patients at the epicente...  \n",
              "10278  early on, many of the patients at the epicente...  \n",
              "10279  early on, many of the patients at the epicente...  \n",
              "10280  early on, many of the patients at the epicente...  \n",
              "\n",
              "[10465 rows x 2 columns]"
            ]
          },
          "execution_count": 14,
          "metadata": {},
          "output_type": "execute_result"
        }
      ],
      "source": [
        "df"
      ]
    },
    {
      "cell_type": "markdown",
      "id": "5ce060d0",
      "metadata": {
        "id": "5ce060d0"
      },
      "source": [
        "## Data preprocessing"
      ]
    },
    {
      "cell_type": "code",
      "execution_count": null,
      "id": "40e240b9",
      "metadata": {
        "colab": {
          "base_uri": "https://localhost:8080/"
        },
        "id": "40e240b9",
        "outputId": "649e7f3a-7e0f-49ca-b786-10a97c85169a"
      },
      "outputs": [
        {
          "name": "stderr",
          "output_type": "stream",
          "text": [
            "[nltk_data] Downloading package punkt to /root/nltk_data...\n",
            "[nltk_data]   Unzipping tokenizers/punkt.zip.\n"
          ]
        },
        {
          "data": {
            "text/plain": [
              "True"
            ]
          },
          "execution_count": 15,
          "metadata": {},
          "output_type": "execute_result"
        }
      ],
      "source": [
        "from collections import Counter\n",
        "import string\n",
        "\n",
        "import nltk\n",
        "from nltk.tokenize import word_tokenize\n",
        "\n",
        "from tqdm import tqdm\n",
        "\n",
        "import json\n",
        "\n",
        "import torch\n",
        "from torch.utils.data import Dataset, DataLoader\n",
        "\n",
        "nltk.download('punkt')"
      ]
    },
    {
      "cell_type": "code",
      "execution_count": null,
      "id": "cdba8fd7",
      "metadata": {
        "id": "cdba8fd7"
      },
      "outputs": [],
      "source": [
        "count_treshold = 10\n",
        "\n",
        "signs = '\\'()[].,?!:; '\n",
        "numbers = ''.join([str(i) for i in range(10)])\n",
        "extra_tokens = ['<bos>', '<eos>', '<unk>', '<pad>']\n",
        "\n",
        "vocabular = set(list(signs.join(numbers)))\n",
        "vocabular = vocabular.union(extra_tokens)"
      ]
    },
    {
      "cell_type": "code",
      "execution_count": null,
      "id": "7d985810",
      "metadata": {
        "colab": {
          "base_uri": "https://localhost:8080/"
        },
        "id": "7d985810",
        "outputId": "ecda08b1-dcbc-478d-ab7c-c87bc839df33"
      },
      "outputs": [
        {
          "name": "stderr",
          "output_type": "stream",
          "text": [
            "100%|██████████| 10465/10465 [00:06<00:00, 1700.53it/s]"
          ]
        },
        {
          "name": "stdout",
          "output_type": "stream",
          "text": [
            "Length of the vocabular is 16848\n"
          ]
        },
        {
          "name": "stderr",
          "output_type": "stream",
          "text": [
            "\n"
          ]
        }
      ],
      "source": [
        "words = Counter()\n",
        "for answer in tqdm(df.answers.array):\n",
        "    processed_text = str(answer).lower().translate(\n",
        "    str.maketrans(\"\", \"\", string.punctuation))\n",
        "\n",
        "    for word in word_tokenize(processed_text):\n",
        "        words[word] += 1\n",
        "\n",
        "for word, count in words.items():\n",
        "    if count > count_treshold:\n",
        "        vocabular.add(word)\n",
        "\n",
        "print(f\"Length of the vocabular is {len(vocabular)}\")"
      ]
    },
    {
      "cell_type": "code",
      "execution_count": null,
      "id": "9cb9ea39",
      "metadata": {
        "id": "9cb9ea39"
      },
      "outputs": [],
      "source": [
        "ind2word = {index: word for index, word in enumerate(vocabular)}\n",
        "word2ind = {word: index for index, word in ind2word.items()}"
      ]
    },
    {
      "cell_type": "code",
      "execution_count": null,
      "id": "6e675470",
      "metadata": {
        "id": "6e675470"
      },
      "outputs": [],
      "source": [
        "with open('word2ind.json', 'w') as f:\n",
        "    json.dump(word2ind, f)\n",
        "\n",
        "with open('ind2word.json', 'w') as f:\n",
        "    json.dump(ind2word, f)"
      ]
    },
    {
      "cell_type": "code",
      "execution_count": null,
      "id": "dedea9f3",
      "metadata": {
        "id": "dedea9f3"
      },
      "outputs": [],
      "source": [
        "class FAQ_Dataset(Dataset):\n",
        "    def __init__(self, questions, answers, is_train):\n",
        "        assert len(questions) == len(answers), 'Sizes don\\'t equal'\n",
        "        self.questions = list(questions)\n",
        "        self.is_train = is_train\n",
        "        if is_train:\n",
        "            self.answers = list(answers)\n",
        "        self.bos = word2ind['<bos>']\n",
        "        self.eos = word2ind['<eos>']\n",
        "        self.pad = word2ind['<pad>']\n",
        "        self.unk = word2ind['<unk>']\n",
        "\n",
        "    def __getitem__(self, idx):\n",
        "        tokenized_question = self.text2tokens(self.questions[idx])\n",
        "\n",
        "        if self.is_train:\n",
        "            tokenized_answer = self.text2tokens(self.answers[idx])\n",
        "            return {\n",
        "                'questions': tokenized_question,\n",
        "                'answers' : tokenized_answer\n",
        "            }\n",
        "\n",
        "        return { 'question': tokenized_question }\n",
        "\n",
        "    def text2tokens(self, text):\n",
        "        processed_text = str(text).lower()\n",
        "\n",
        "        tokenized_text = [self.bos]\n",
        "        for word in word_tokenize(processed_text):\n",
        "            tokenized_text += [word2ind.get(word, self.unk)]\n",
        "\n",
        "        tokenized_text.append(self.eos)\n",
        "        return tokenized_text\n",
        "\n",
        "    def __len__(self):\n",
        "        return len(self.questions)"
      ]
    },
    {
      "cell_type": "code",
      "execution_count": null,
      "id": "ed1f53f1",
      "metadata": {
        "id": "ed1f53f1"
      },
      "outputs": [],
      "source": [
        "def make_same_size(batch_texts, max_len, pad_id):\n",
        "    padded_texts = []\n",
        "    for tokenized_text in batch_texts:\n",
        "        tokenized_text = tokenized_text[:max_len]\n",
        "        while len(tokenized_text) < max_len:\n",
        "            tokenized_text.append(pad_id)\n",
        "        padded_texts.append(tokenized_text)\n",
        "    return padded_texts\n",
        "\n",
        "def find_max_len(input_batch, max_len):\n",
        "    lens = [len(text) for text in input_batch]\n",
        "    return min(max(lens), max_len)\n",
        "\n",
        "def collate_fn_with_padding(input_batch, pad_id=word2ind.get('<pad>', -1), max_len_question=256, max_len_answer=128):\n",
        "    questions = [item['questions'] for item in input_batch]\n",
        "    answers = [item['answers'] for item in input_batch] if 'answers' in input_batch[0] else None\n",
        "\n",
        "    tokenized_questions_with_pad = make_same_size(\n",
        "        questions,\n",
        "        find_max_len(questions, max_len_question),\n",
        "        pad_id\n",
        "    )\n",
        "\n",
        "    if 'answers' in input_batch[0].keys():\n",
        "        tokenized_answers_with_pad = make_same_size(\n",
        "            answers,\n",
        "            find_max_len(answers, max_len_answer),\n",
        "            pad_id\n",
        "        )\n",
        "        return {\n",
        "            'questions': torch.tensor(tokenized_questions_with_pad, dtype=torch.long),\n",
        "            'answers': torch.tensor(tokenized_answers_with_pad, dtype=torch.long)\n",
        "        }\n",
        "\n",
        "    return {\n",
        "        'questions': torch.tensor(tokenized_questions_with_pad, dtype=torch.long)\n",
        "    }"
      ]
    },
    {
      "cell_type": "markdown",
      "id": "f257574b",
      "metadata": {
        "id": "f257574b"
      },
      "source": [
        "## Data splitting\n"
      ]
    },
    {
      "cell_type": "code",
      "execution_count": null,
      "id": "c42a77f1",
      "metadata": {
        "id": "c42a77f1"
      },
      "outputs": [],
      "source": [
        "from sklearn.model_selection import train_test_split"
      ]
    },
    {
      "cell_type": "code",
      "execution_count": null,
      "id": "5f693d88",
      "metadata": {
        "id": "5f693d88"
      },
      "outputs": [],
      "source": [
        "X = df.questions\n",
        "y = df.answers\n",
        "\n",
        "batch_size = 32"
      ]
    },
    {
      "cell_type": "code",
      "execution_count": null,
      "id": "a1db7a35",
      "metadata": {
        "id": "a1db7a35"
      },
      "outputs": [],
      "source": [
        "X_train, X_test, y_train, y_test = train_test_split(X, y, test_size=0.2, shuffle=True)\n",
        "\n",
        "train_dataset = FAQ_Dataset(X_train, y_train, True)\n",
        "test_dataset = FAQ_Dataset(X_test, y_test, True)\n",
        "\n",
        "train_loader = DataLoader(\n",
        "    train_dataset, batch_size=batch_size, shuffle=True, collate_fn=collate_fn_with_padding)\n",
        "test_loader = DataLoader(\n",
        "    test_dataset, batch_size=batch_size, shuffle=True, collate_fn=collate_fn_with_padding)"
      ]
    },
    {
      "cell_type": "code",
      "execution_count": null,
      "id": "1f11aec6",
      "metadata": {
        "colab": {
          "base_uri": "https://localhost:8080/",
          "height": 55
        },
        "id": "1f11aec6",
        "outputId": "eb2ce671-aa2c-4c39-b0bd-b5e545e9d8d0"
      },
      "outputs": [
        {
          "data": {
            "application/vnd.google.colaboratory.intrinsic+json": {
              "type": "string"
            },
            "text/plain": [
              "'Are the symptoms of COVID-19 different in children than in adults?'"
            ]
          },
          "execution_count": 57,
          "metadata": {},
          "output_type": "execute_result"
        }
      ],
      "source": [
        "train_loader.dataset.questions[100]"
      ]
    },
    {
      "cell_type": "markdown",
      "id": "bd2534e4",
      "metadata": {
        "id": "bd2534e4"
      },
      "source": [
        "## Model"
      ]
    },
    {
      "cell_type": "code",
      "execution_count": null,
      "id": "88961767",
      "metadata": {
        "id": "88961767"
      },
      "outputs": [],
      "source": [
        "import torch.nn as nn\n",
        "import random\n",
        "\n",
        "import numpy as np"
      ]
    },
    {
      "cell_type": "code",
      "execution_count": null,
      "id": "08c00461",
      "metadata": {
        "id": "08c00461"
      },
      "outputs": [],
      "source": [
        "class EncoderDecoder(nn.Module):\n",
        "    def __init__(self, vocab_len, hidden_dim, input_size, max_answer_length, teaching_forcing=1.0):\n",
        "        super(EncoderDecoder, self).__init__()\n",
        "        self.vocab_len = vocab_len\n",
        "        self.hidden_dim = hidden_dim\n",
        "        self.input_size = input_size\n",
        "        self.teaching_forcing = teaching_forcing\n",
        "        self.max_answer_length = max_answer_length\n",
        "\n",
        "        self.encoder_embedding = nn.Embedding(vocab_len, input_size, padding_idx=word2ind['<pad>'])\n",
        "        self.encoder_LSTM = nn.LSTM(\n",
        "            input_size=self.input_size,\n",
        "            hidden_size=self.hidden_dim,\n",
        "            num_layers=2,\n",
        "            batch_first=True,\n",
        "            dropout=0.2\n",
        "        )\n",
        "\n",
        "        self.decoder_embedding = nn.Embedding(vocab_len, hidden_dim, padding_idx=word2ind['<pad>'])\n",
        "        self.decoder_LSTM = nn.LSTM(\n",
        "            input_size=self.hidden_dim,\n",
        "            hidden_size=self.hidden_dim,\n",
        "            num_layers=2,\n",
        "            batch_first=True,\n",
        "            dropout=0.2\n",
        "        )\n",
        "\n",
        "        self.decoder_prediction = nn.Sequential(\n",
        "            nn.Linear(hidden_dim, vocab_len)\n",
        "        )\n",
        "\n",
        "    def forward(self, x, target = None, device='cpu'):\n",
        "        batch_size = x.shape[0]\n",
        "\n",
        "        # Encoder\n",
        "        embeddings = self.encoder_embedding(x)\n",
        "        output, hidden = self.encoder_LSTM(embeddings)\n",
        "\n",
        "        # Previous tokens for batch\n",
        "        prev_token_idx = torch.tensor([word2ind['<bos>']] * batch_size).reshape(-1, 1).to(device)\n",
        "\n",
        "        probs_tensor = None\n",
        "        for i in range(self.max_answer_length):\n",
        "            if i != 0 and target is not None and random.random() < self.teaching_forcing and target.shape[1] > i - 1:\n",
        "                prev_token_idx = target[:, i - 1].reshape(-1, 1).to(device)\n",
        "            embeddings = self.decoder_embedding(prev_token_idx)\n",
        "            output, hidden = self.decoder_LSTM(embeddings, hidden)\n",
        "\n",
        "            # Output is distribution for prediction\n",
        "            output = self.decoder_prediction(output)\n",
        "            # New previous token\n",
        "            prev_token_idx = output.argmax(axis=2).reshape(-1, 1)  # axis=2 for batch-first\n",
        "\n",
        "            if probs_tensor is None:\n",
        "                probs_tensor = output.unsqueeze(0)\n",
        "            else:\n",
        "                probs_tensor = torch.cat((probs_tensor, output.unsqueeze(0)))\n",
        "\n",
        "            if target is not None and i == target.shape[1] - 1:\n",
        "                break\n",
        "\n",
        "        # Transpose for dimension swapping\n",
        "        return probs_tensor.transpose(1, 0)"
      ]
    },
    {
      "cell_type": "markdown",
      "id": "cfaa695d",
      "metadata": {
        "id": "cfaa695d"
      },
      "source": [
        "## Train functions"
      ]
    },
    {
      "cell_type": "code",
      "execution_count": null,
      "id": "e8c6fd78",
      "metadata": {
        "id": "e8c6fd78"
      },
      "outputs": [],
      "source": [
        "from matplotlib import pyplot as plt"
      ]
    },
    {
      "cell_type": "code",
      "execution_count": null,
      "id": "1610547c",
      "metadata": {
        "id": "1610547c"
      },
      "outputs": [],
      "source": [
        "def model_predict(string, model, is_string_converted = False, device='cpu'):\n",
        "    model.to(device)\n",
        "    if not is_string_converted:\n",
        "      string_by_index = [word2ind.get(word, word2ind['<unk>']) for word in word_tokenize(string)]\n",
        "    else:\n",
        "      string_by_index = string\n",
        "    batch = torch.tensor([word2ind['<bos>']] + string_by_index + [word2ind['<eos>']], dtype=torch.long).unsqueeze(0).to(device)\n",
        "\n",
        "    model.eval()\n",
        "    with torch.no_grad():\n",
        "        probs_tensor = model(batch)\n",
        "\n",
        "    indexes = probs_tensor.argmax(axis=-1).reshape(-1)\n",
        "\n",
        "    output = [ind2word[index.item()] + \" \" for index in indexes]\n",
        "\n",
        "    if '<eos>' + \" \" in output:\n",
        "        output = output[:output.index('<eos>' + \" \")]\n",
        "\n",
        "    return ''.join(output)[:-1]\n"
      ]
    },
    {
      "cell_type": "code",
      "execution_count": null,
      "id": "d3b6f556",
      "metadata": {
        "id": "d3b6f556"
      },
      "outputs": [],
      "source": [
        "def train(num_epochs, model, criterion, optimizer, train_loader, test_loader, vocab_len, device = 'cpu', clip_value = 1.0):\n",
        "    train_loss = []\n",
        "    test_loss = []\n",
        "    for epoch in range(num_epochs):\n",
        "        model = model.to(device)\n",
        "        model.train()\n",
        "\n",
        "        loss_per_epoch = []\n",
        "        for i, batch in tqdm(enumerate(train_loader), desc=f'Train epoch {epoch + 1}'):\n",
        "            questions, answers = batch['questions'].to(device), batch['answers'].to(device)\n",
        "\n",
        "            optimizer.zero_grad()\n",
        "            output = model(questions, answers, device)\n",
        "\n",
        "            loss = criterion(output.reshape(-1, vocab_len), answers[:, :output.size(1)].reshape(-1))\n",
        "\n",
        "            loss_per_epoch.append(loss.item())\n",
        "\n",
        "            loss.backward()\n",
        "            torch.nn.utils.clip_grad_norm_(model.parameters(), max_norm=clip_value)\n",
        "            optimizer.step()\n",
        "\n",
        "        train_loss.append(np.mean(loss_per_epoch))\n",
        "        print(f\"Train loss for {epoch + 1} is {train_loss[-1]}\")\n",
        "\n",
        "        model.eval()\n",
        "        loss_per_epoch.clear()\n",
        "        with torch.no_grad():\n",
        "            for i, batch in tqdm(enumerate(test_loader), desc=f'Val epoch {epoch + 1}'):\n",
        "                questions, answers = batch['questions'].to(device), batch['answers'].to(device)\n",
        "\n",
        "                output = model(questions, answers, device)\n",
        "                loss = criterion(output.reshape(-1, vocab_len), answers[:, :output.size(1)].reshape(-1))\n",
        "\n",
        "                loss_per_epoch.append(loss.item())\n",
        "\n",
        "        test_loss.append(np.mean(loss_per_epoch))\n",
        "        print(f\"Val loss for {epoch + 1} is {test_loss[-1]}\")\n",
        "\n",
        "        print(\"Sample Predictions:\")\n",
        "        print(\"-----\\n\")\n",
        "        for i in range(3):\n",
        "            sample_question = test_loader.dataset[i]['questions']\n",
        "            generated_answer = model_predict(sample_question, model, is_string_converted=True)\n",
        "            sample_question_to_string = \"\".join([ind2word[index] + \" \" for index in sample_question])\n",
        "            print(f\"Input: {sample_question_to_string}\")\n",
        "            print(f\"Generated Answer: {generated_answer}\")\n",
        "            print(\"-----\")\n",
        "        print(\"\\n\")\n",
        "\n",
        "        torch.save(model.state_dict(), 'model_weights.pth')\n",
        "        print('Model was saved')\n",
        "\n",
        "\n",
        "    return train_loss, test_loss"
      ]
    },
    {
      "cell_type": "code",
      "execution_count": null,
      "id": "baa73355",
      "metadata": {
        "id": "baa73355"
      },
      "outputs": [],
      "source": [
        "def loss_plot(losses_train, losses_eval):\n",
        "    fig, ax = plt.subplots()\n",
        "\n",
        "    # Plot losses\n",
        "    ax.plot(losses_train, label='Train', color='red')\n",
        "    ax.plot(losses_eval, label='Eval', color='blue')\n",
        "    ax.set_title('Loss History')\n",
        "    ax.set_ylabel('Loss')\n",
        "    ax.set_xlabel('Epochs')\n",
        "    ax.grid(True)\n",
        "    ax.legend()\n",
        "    plt.show()"
      ]
    },
    {
      "cell_type": "markdown",
      "id": "78eecf6a",
      "metadata": {
        "id": "78eecf6a"
      },
      "source": [
        "## Training process"
      ]
    },
    {
      "cell_type": "code",
      "execution_count": null,
      "id": "5c6febd5",
      "metadata": {
        "id": "5c6febd5"
      },
      "outputs": [],
      "source": [
        "import torch.optim as optim"
      ]
    },
    {
      "cell_type": "code",
      "execution_count": null,
      "id": "6a4890fe",
      "metadata": {
        "colab": {
          "base_uri": "https://localhost:8080/"
        },
        "id": "6a4890fe",
        "outputId": "03871959-79b9-4be3-8f59-59d864a58a59"
      },
      "outputs": [
        {
          "data": {
            "text/plain": [
              "device(type='cuda')"
            ]
          },
          "execution_count": 67,
          "metadata": {},
          "output_type": "execute_result"
        }
      ],
      "source": [
        "model = EncoderDecoder(len(vocabular), 256, 64, max_answer_length=128, teaching_forcing=0.8)\n",
        "# model.load_state_dict(torch.load('model_weights.pth'))\n",
        "device = torch.device(\"cuda\" if torch.cuda.is_available() else \"cpu\")\n",
        "device"
      ]
    },
    {
      "cell_type": "code",
      "execution_count": null,
      "id": "74a56a6b",
      "metadata": {
        "colab": {
          "base_uri": "https://localhost:8080/",
          "height": 197
        },
        "id": "74a56a6b",
        "outputId": "1e40ccad-7144-4a73-81d2-293467fb37d9"
      },
      "outputs": [
        {
          "data": {
            "application/vnd.google.colaboratory.intrinsic+json": {
              "type": "string"
            },
            "text/plain": [
              "'criminal planner planner authorization smallbusiness smallbusiness hospitalization 572 httpswwwcacmilcoronavirus ignoring ignoring shoot catsâ catsâ shoot curriculum advair advair processpacking squats processpacking wellchild teleworkâ wellchild hallberg place videochatting wellchild wildfire wildfire strengthening dispersed 1960s tty 572 fare httpswwwcacmilcoronavirus commerce supporter cac steve authorization circulating cash cash richmond 100 nationâ\\x80\\x99s strengthening adjust adjust tty 572 572 httpswwwcacmilcoronavirus wellchild youâ\\x80\\x99re sarscov2covid19 hallberg wellchild wellchild wildfire wildfire strengthening dispersed 1960s coldlike coldlike coldlike coldlike coldlike coldlike coldlike coldlike dream coldlike coldlike coldlike coldlike dream coldlike coldlike coldlike dream coldlike coldlike coldlike dream coldlike coldlike coldlike dream coldlike coldlike coldlike dream coldlike coldlike coldlike dream coldlike coldlike coldlike dream coldlike coldlike coldlike dream coldlike coldlike coldlike dream coldlike coldlike coldlike dream coldlike coldlike coldlike dream coldlike coldlike coldlike dream coldlike coldlike coldlike dream'"
            ]
          },
          "execution_count": 68,
          "metadata": {},
          "output_type": "execute_result"
        }
      ],
      "source": [
        "model_predict('what is coronovirus?', model)"
      ]
    },
    {
      "cell_type": "code",
      "execution_count": null,
      "id": "s9i5qS4wjSIX",
      "metadata": {
        "colab": {
          "base_uri": "https://localhost:8080/",
          "height": 197
        },
        "id": "s9i5qS4wjSIX",
        "outputId": "6dba94a3-6c95-4a1b-962f-ef225fe24d92"
      },
      "outputs": [
        {
          "data": {
            "application/vnd.google.colaboratory.intrinsic+json": {
              "type": "string"
            },
            "text/plain": [
              "'marginal peoplecentred â\\x80\\x98regularâ\\x80\\x99 cautionary cautionary housing housing inhibiting inhibiting 8000 grandchildren costly jets cautionary cautionary jets catsâ strengthening strengthening headline dumbbell dangerous alia partnered hygiene hygiene hygiene hippa headline incomeeligible 05050126 sustaining headline sustaining chills albumin 830 thatâ\\x80\\x99s hydrated fare dispersed httpswwwnjgovgovernornewsnews562020approved20200328cshtml 05050126 deadlineif pmwa 8000 8000 bhts individualized bhts bhts md chills cautionary chills strengthening dispersed tendon alia dispersed njcasa breathes withheld withheld withheld withheld lockdowns withheld withheld withheld lockdowns withheld withheld withheld lockdowns withheld withheld dosing lockdowns 100 employeesâ adjust arousing arousing unwell jog jog suppose cautionary dispersed engagement vibrant httpswwwnjgovgovernornewsnews562020approved20200328cshtml 05050126 approaches menus 830 830 coldlike coldlike coldlike coldlike coldlike coldlike coldlike dream coldlike coldlike coldlike coldlike dream coldlike coldlike coldlike dream coldlike coldlike coldlike dream coldlike coldlike coldlike dream coldlike coldlike coldlike dream coldlike'"
            ]
          },
          "execution_count": 69,
          "metadata": {},
          "output_type": "execute_result"
        }
      ],
      "source": [
        "model_predict('abc', model)"
      ]
    },
    {
      "cell_type": "code",
      "execution_count": null,
      "id": "aea832a6",
      "metadata": {
        "id": "aea832a6"
      },
      "outputs": [],
      "source": [
        "critereion = nn.CrossEntropyLoss(ignore_index=word2ind['<pad>'])\n",
        "optimizer = optim.Adam(model.parameters(), lr=0.001)"
      ]
    },
    {
      "cell_type": "code",
      "execution_count": null,
      "id": "6d199131",
      "metadata": {
        "colab": {
          "base_uri": "https://localhost:8080/"
        },
        "id": "6d199131",
        "outputId": "a94543fb-a823-42f2-f0c4-dd1bd112a890",
        "scrolled": true
      },
      "outputs": [
        {
          "name": "stderr",
          "output_type": "stream",
          "text": [
            "Train epoch 1: 262it [01:54,  2.30it/s]\n"
          ]
        },
        {
          "name": "stdout",
          "output_type": "stream",
          "text": [
            "Train loss for 1 is 6.587373187523762\n"
          ]
        },
        {
          "name": "stderr",
          "output_type": "stream",
          "text": [
            "Val epoch 1: 66it [00:17,  3.72it/s]\n"
          ]
        },
        {
          "name": "stdout",
          "output_type": "stream",
          "text": [
            "Val loss for 1 is 6.446261499867295\n",
            "Sample Predictions:\n",
            "-----\n",
            "\n",
            "Input: <bos> cosentyx and <unk> does anyone have any updates on being on a biologic and getting <unk> ? what are your doctors saying ? continue or stop taking them ? <eos> \n",
            "Generated Answer: <bos> the the the the , , , , , , , , , , , , , , , , , , , , , , . . . . . . . . . . . . . . . . . . . . . . . . . . . . . . . . . . . . . . . . . . . . . . . . . . . . . . . . . . . . . . . . . . . . . . . . . . . . . . . . . . . . . . . . . . . . . . . . . . . . .\n",
            "-----\n",
            "Input: <bos> if novel coronavirus antibodies may or may not offer <unk> immunity , how would a vaccine help ? <eos> \n",
            "Generated Answer: <bos> the the the the , , , , , , , , , , , , , , . . . . . . . . . . . . . . . . . . . . . . . . . . . . . . . . . . . . . . . . . . . . . . . . . . . . . . . . . . . . . . . . . . . . . . . . . . . . . . . . . . . . . . . . . . . . . . . . . . . . . . . . . . . . .\n",
            "-----\n",
            "Input: <bos> will the coronavirus survive in the refrigerator or freezer ? <eos> \n",
            "Generated Answer: <bos> the the the , , , , , , , , . . . . . . . . . . . . . . . . . . . . . . . . . . . . . . . . . . . . . . . . . . . . . . . . . . . . . . . . . . . . . . . . . . . . . . . . . . . . . . . . . . . . . . . . . . . . . . . . . . . . . . . . . . . . . . . . . . . .\n",
            "-----\n",
            "\n",
            "\n",
            "Model was saved\n"
          ]
        },
        {
          "name": "stderr",
          "output_type": "stream",
          "text": [
            "Train epoch 2: 262it [01:52,  2.33it/s]\n"
          ]
        },
        {
          "name": "stdout",
          "output_type": "stream",
          "text": [
            "Train loss for 2 is 6.2265909719103165\n"
          ]
        },
        {
          "name": "stderr",
          "output_type": "stream",
          "text": [
            "Val epoch 2: 66it [00:18,  3.67it/s]\n"
          ]
        },
        {
          "name": "stdout",
          "output_type": "stream",
          "text": [
            "Val loss for 2 is 6.030907869338989\n",
            "Sample Predictions:\n",
            "-----\n",
            "\n",
            "Input: <bos> cosentyx and <unk> does anyone have any updates on being on a biologic and getting <unk> ? what are your doctors saying ? continue or stop taking them ? <eos> \n",
            "Generated Answer: <bos> if you are a <unk> , and the <unk> , and the <unk> , and the <unk> .\n",
            "-----\n",
            "Input: <bos> if novel coronavirus antibodies may or may not offer <unk> immunity , how would a vaccine help ? <eos> \n",
            "Generated Answer: <bos> the <unk> , and the <unk> , and the <unk> , and the <unk> .\n",
            "-----\n",
            "Input: <bos> will the coronavirus survive in the refrigerator or freezer ? <eos> \n",
            "Generated Answer: <bos> the <unk> , and the <unk> , and the <unk> , and the <unk> .\n",
            "-----\n",
            "\n",
            "\n",
            "Model was saved\n"
          ]
        },
        {
          "name": "stderr",
          "output_type": "stream",
          "text": [
            "Train epoch 3: 262it [01:52,  2.34it/s]\n"
          ]
        },
        {
          "name": "stdout",
          "output_type": "stream",
          "text": [
            "Train loss for 3 is 5.844266784100133\n"
          ]
        },
        {
          "name": "stderr",
          "output_type": "stream",
          "text": [
            "Val epoch 3: 66it [00:17,  3.67it/s]\n"
          ]
        },
        {
          "name": "stdout",
          "output_type": "stream",
          "text": [
            "Val loss for 3 is 5.7569038073221845\n",
            "Sample Predictions:\n",
            "-----\n",
            "\n",
            "Input: <bos> cosentyx and <unk> does anyone have any updates on being on a biologic and getting <unk> ? what are your doctors saying ? continue or stop taking them ? <eos> \n",
            "Generated Answer: <bos> if you have a <unk> of the <unk> of the <unk> of the <unk> of the <unk> of the <unk> of the <unk> .\n",
            "-----\n",
            "Input: <bos> if novel coronavirus antibodies may or may not offer <unk> immunity , how would a vaccine help ? <eos> \n",
            "Generated Answer: <bos> if you have a <unk> of the <unk> of the <unk> of the <unk> of the <unk> .\n",
            "-----\n",
            "Input: <bos> will the coronavirus survive in the refrigerator or freezer ? <eos> \n",
            "Generated Answer: <bos> if you have a <unk> of the <unk> of the <unk> .\n",
            "-----\n",
            "\n",
            "\n",
            "Model was saved\n"
          ]
        },
        {
          "name": "stderr",
          "output_type": "stream",
          "text": [
            "Train epoch 4: 262it [01:52,  2.33it/s]\n"
          ]
        },
        {
          "name": "stdout",
          "output_type": "stream",
          "text": [
            "Train loss for 4 is 5.605632641843257\n"
          ]
        },
        {
          "name": "stderr",
          "output_type": "stream",
          "text": [
            "Val epoch 4: 66it [00:17,  3.74it/s]\n"
          ]
        },
        {
          "name": "stdout",
          "output_type": "stream",
          "text": [
            "Val loss for 4 is 5.573651162060824\n",
            "Sample Predictions:\n",
            "-----\n",
            "\n",
            "Input: <bos> cosentyx and <unk> does anyone have any updates on being on a biologic and getting <unk> ? what are your doctors saying ? continue or stop taking them ? <eos> \n",
            "Generated Answer: <bos> i have a <unk> to be a to to the virus .\n",
            "-----\n",
            "Input: <bos> if novel coronavirus antibodies may or may not offer <unk> immunity , how would a vaccine help ? <eos> \n",
            "Generated Answer: <bos> i have a <unk> to be a to to the virus .\n",
            "-----\n",
            "Input: <bos> will the coronavirus survive in the refrigerator or freezer ? <eos> \n",
            "Generated Answer: <bos> i have a <unk> to be a to to the virus .\n",
            "-----\n",
            "\n",
            "\n",
            "Model was saved\n"
          ]
        },
        {
          "name": "stderr",
          "output_type": "stream",
          "text": [
            "Train epoch 5: 262it [01:53,  2.31it/s]\n"
          ]
        },
        {
          "name": "stdout",
          "output_type": "stream",
          "text": [
            "Train loss for 5 is 5.42580749970356\n"
          ]
        },
        {
          "name": "stderr",
          "output_type": "stream",
          "text": [
            "Val epoch 5: 66it [00:17,  3.69it/s]\n"
          ]
        },
        {
          "name": "stdout",
          "output_type": "stream",
          "text": [
            "Val loss for 5 is 5.437442989060373\n",
            "Sample Predictions:\n",
            "-----\n",
            "\n",
            "Input: <bos> cosentyx and <unk> does anyone have any updates on being on a biologic and getting <unk> ? what are your doctors saying ? continue or stop taking them ? <eos> \n",
            "Generated Answer: <bos> i <unk> <unk> <unk> <unk> <unk> <unk> <unk> <unk> <unk> <unk> <unk> <unk> <unk> <unk> <unk> <unk> <unk> <unk> <unk> <unk> <unk> <unk> <unk> <unk> <unk> <unk> <unk> <unk> <unk> <unk> <unk> <unk> <unk> <unk> <unk> <unk> <unk> <unk> <unk> <unk> <unk> <unk> <unk> <unk> <unk> <unk> <unk> <unk> <unk> <unk> <unk> <unk> <unk> <unk> <unk> <unk> <unk> <unk> <unk> <unk> <unk> <unk> <unk> <unk> <unk> <unk> <unk> <unk> <unk> <unk> <unk> <unk> <unk> <unk> <unk> <unk> <unk> <unk> <unk> <unk> <unk> <unk> <unk> <unk> <unk> <unk> <unk> <unk> <unk> <unk> <unk> <unk> <unk> <unk> <unk> <unk> <unk> <unk> <unk> <unk> <unk> <unk> <unk> <unk> <unk> <unk> <unk> <unk> <unk> <unk> <unk> <unk> <unk> <unk> <unk> <unk> <unk> <unk> <unk> <unk> <unk> <unk> <unk> <unk> <unk> <unk>\n",
            "-----\n",
            "Input: <bos> if novel coronavirus antibodies may or may not offer <unk> immunity , how would a vaccine help ? <eos> \n",
            "Generated Answer: <bos> i <unk> <unk> <unk> <unk> <unk> <unk> <unk> <unk> <unk> <unk> <unk> <unk> <unk> <unk> <unk> <unk> <unk> <unk> <unk> <unk> <unk> <unk> <unk> <unk> <unk> <unk> <unk> <unk> <unk> <unk> <unk> <unk> <unk> <unk> <unk> <unk> <unk> <unk> <unk> <unk> <unk> <unk> <unk> <unk> <unk> <unk> <unk> <unk> <unk> <unk> <unk> <unk> <unk> <unk> <unk> <unk> <unk> <unk> <unk> <unk> <unk> <unk> <unk> <unk> <unk> <unk> <unk> <unk> <unk> <unk> <unk> <unk> <unk> <unk> <unk> <unk> <unk> <unk> <unk> <unk> <unk> <unk> <unk> <unk> <unk> <unk> <unk> <unk> <unk> <unk> <unk> <unk> <unk> <unk> <unk> <unk> <unk> <unk> <unk> <unk> <unk> <unk> <unk> <unk> <unk> <unk> <unk> <unk> <unk> <unk> <unk> <unk> <unk> <unk> <unk> <unk> <unk> <unk> <unk> <unk> <unk> <unk> <unk> <unk> <unk> <unk>\n",
            "-----\n",
            "Input: <bos> will the coronavirus survive in the refrigerator or freezer ? <eos> \n",
            "Generated Answer: <bos> i <unk> <unk> <unk> <unk> <unk> <unk> <unk> <unk> <unk> <unk> <unk> <unk> <unk> <unk> <unk> <unk> <unk> <unk> <unk> <unk> <unk> <unk> <unk> <unk> <unk> <unk> <unk> <unk> <unk> <unk> <unk> <unk> <unk> <unk> <unk> <unk> <unk> <unk> <unk> <unk> <unk> <unk> <unk> <unk> <unk> <unk> <unk> <unk> <unk> <unk> <unk> <unk> <unk> <unk> <unk> <unk> <unk> <unk> <unk> <unk> <unk> <unk> <unk> <unk> <unk> <unk> <unk> <unk> <unk> <unk> <unk> <unk> <unk> <unk> <unk> <unk> <unk> <unk> <unk> <unk> <unk> <unk> <unk> <unk> <unk> <unk> <unk> <unk> <unk> <unk> <unk> <unk> <unk> <unk> <unk> <unk> <unk> <unk> <unk> <unk> <unk> <unk> <unk> <unk> <unk> <unk> <unk> <unk> <unk> <unk> <unk> <unk> <unk> <unk> <unk> <unk> <unk> <unk> <unk> <unk> <unk> <unk> <unk> <unk> <unk> <unk>\n",
            "-----\n",
            "\n",
            "\n",
            "Model was saved\n"
          ]
        },
        {
          "name": "stderr",
          "output_type": "stream",
          "text": [
            "Train epoch 6: 262it [01:51,  2.35it/s]\n"
          ]
        },
        {
          "name": "stdout",
          "output_type": "stream",
          "text": [
            "Train loss for 6 is 5.273920636140663\n"
          ]
        },
        {
          "name": "stderr",
          "output_type": "stream",
          "text": [
            "Val epoch 6: 66it [00:17,  3.69it/s]\n"
          ]
        },
        {
          "name": "stdout",
          "output_type": "stream",
          "text": [
            "Val loss for 6 is 5.3338163982738145\n",
            "Sample Predictions:\n",
            "-----\n",
            "\n",
            "Input: <bos> cosentyx and <unk> does anyone have any updates on being on a biologic and getting <unk> ? what are your doctors saying ? continue or stop taking them ? <eos> \n",
            "Generated Answer: <bos> i <unk> i <unk> <unk> <unk> <unk> <unk> <unk> <unk> <unk> <unk> <unk> <unk> <unk> <unk> <unk> <unk> <unk> <unk> <unk> <unk> <unk> <unk> <unk> <unk> <unk> <unk> <unk> <unk> <unk> <unk> <unk> <unk> <unk> <unk> <unk> <unk> <unk> <unk> <unk> <unk> <unk> <unk> <unk> <unk> <unk> <unk> <unk> <unk> <unk> <unk> <unk> <unk> <unk> <unk> <unk> <unk> <unk> <unk> <unk> <unk> <unk> <unk> <unk> <unk> <unk> <unk> <unk> <unk> <unk> <unk> <unk> <unk> <unk> <unk> <unk> <unk> <unk> <unk> <unk> <unk> <unk> <unk> <unk> <unk> <unk> <unk> <unk> <unk> <unk> <unk> <unk> <unk> <unk> <unk> <unk> <unk> <unk> <unk> <unk> <unk> <unk> <unk> <unk> <unk> <unk> <unk> <unk> <unk> <unk> <unk> <unk> <unk> <unk> <unk> <unk> <unk> <unk> <unk> <unk> <unk> <unk> <unk> <unk> <unk> <unk>\n",
            "-----\n",
            "Input: <bos> if novel coronavirus antibodies may or may not offer <unk> immunity , how would a vaccine help ? <eos> \n",
            "Generated Answer: <bos> if you have a <unk> , you can be a to <unk> .\n",
            "-----\n",
            "Input: <bos> will the coronavirus survive in the refrigerator or freezer ? <eos> \n",
            "Generated Answer: <bos> if you have a <unk> , you can be a to <unk> .\n",
            "-----\n",
            "\n",
            "\n",
            "Model was saved\n"
          ]
        },
        {
          "name": "stderr",
          "output_type": "stream",
          "text": [
            "Train epoch 7: 262it [01:51,  2.35it/s]\n"
          ]
        },
        {
          "name": "stdout",
          "output_type": "stream",
          "text": [
            "Train loss for 7 is 5.156279705862962\n"
          ]
        },
        {
          "name": "stderr",
          "output_type": "stream",
          "text": [
            "Val epoch 7: 66it [00:17,  3.77it/s]\n"
          ]
        },
        {
          "name": "stdout",
          "output_type": "stream",
          "text": [
            "Val loss for 7 is 5.237361062656749\n",
            "Sample Predictions:\n",
            "-----\n",
            "\n",
            "Input: <bos> cosentyx and <unk> does anyone have any updates on being on a biologic and getting <unk> ? what are your doctors saying ? continue or stop taking them ? <eos> \n",
            "Generated Answer: <bos> i <unk> <unk> <unk> <unk> <unk> <unk> <unk> <unk> <unk> <unk> <unk> <unk> <unk> <unk> <unk> <unk> <unk> <unk> <unk> <unk> <unk> <unk> <unk> <unk> <unk> <unk> <unk> <unk> <unk> <unk> <unk> <unk> <unk> <unk> <unk> <unk> <unk> <unk> <unk> <unk> <unk> <unk> <unk> <unk> <unk> <unk> <unk> <unk> <unk> <unk> <unk> <unk> <unk> <unk> <unk> <unk> <unk> <unk> <unk> <unk> <unk> <unk> <unk> <unk> <unk> <unk> <unk> <unk> <unk> <unk> <unk> <unk> <unk> <unk> <unk> <unk> <unk> <unk> <unk> <unk> <unk> <unk> <unk> <unk> <unk> <unk> <unk> <unk> <unk> <unk> <unk> <unk> <unk> <unk> <unk> <unk> <unk> <unk> <unk> <unk> <unk> <unk> <unk> <unk> <unk> <unk> <unk> <unk> <unk> <unk> <unk> <unk> <unk> <unk> <unk> <unk> <unk> <unk> <unk> <unk> <unk> <unk> <unk> <unk> <unk> <unk>\n",
            "-----\n",
            "Input: <bos> if novel coronavirus antibodies may or may not offer <unk> immunity , how would a vaccine help ? <eos> \n",
            "Generated Answer: <bos> i <unk> <unk> <unk> <unk> <unk> <unk> <unk> <unk> <unk> <unk> <unk> <unk> <unk> <unk> <unk> <unk> <unk> <unk> <unk> <unk> <unk> <unk> <unk> <unk> <unk> <unk> <unk> <unk> <unk> <unk> <unk> <unk> <unk> <unk> <unk> <unk> <unk> <unk> <unk> <unk> <unk> <unk> <unk> <unk> <unk> <unk> <unk> <unk> <unk> <unk> <unk> <unk> <unk> <unk> <unk> <unk> <unk> <unk> <unk> <unk> <unk> <unk> <unk> <unk> <unk> <unk> <unk> <unk> <unk> <unk> <unk> <unk> <unk> <unk> <unk> <unk> <unk> <unk> <unk> <unk> <unk> <unk> <unk> <unk> <unk> <unk> <unk> <unk> <unk> <unk> <unk> <unk> <unk> <unk> <unk> <unk> <unk> <unk> <unk> <unk> <unk> <unk> <unk> <unk> <unk> <unk> <unk> <unk> <unk> <unk> <unk> <unk> <unk> <unk> <unk> <unk> <unk> <unk> <unk> <unk> <unk> <unk> <unk> <unk> <unk> <unk>\n",
            "-----\n",
            "Input: <bos> will the coronavirus survive in the refrigerator or freezer ? <eos> \n",
            "Generated Answer: <bos> i <unk> <unk> <unk> <unk> <unk> <unk> <unk> <unk> <unk> <unk> <unk> <unk> <unk> <unk> <unk> <unk> <unk> <unk> <unk> <unk> <unk> <unk> <unk> <unk> <unk> <unk> <unk> <unk> <unk> <unk> <unk> <unk> <unk> <unk> <unk> <unk> <unk> <unk> <unk> <unk> <unk> <unk> <unk> <unk> <unk> <unk> <unk> <unk> <unk> <unk> <unk> <unk> <unk> <unk> <unk> <unk> <unk> <unk> <unk> <unk> <unk> <unk> <unk> <unk> <unk> <unk> <unk> <unk> <unk> <unk> <unk> <unk> <unk> <unk> <unk> <unk> <unk> <unk> <unk> <unk> <unk> <unk> <unk> <unk> <unk> <unk> <unk> <unk> <unk> <unk> <unk> <unk> <unk> <unk> <unk> <unk> <unk> <unk> <unk> <unk> <unk> <unk> <unk> <unk> <unk> <unk> <unk> <unk> <unk> <unk> <unk> <unk> <unk> <unk> <unk> <unk> <unk> <unk> <unk> <unk> <unk> <unk> <unk> <unk> <unk> <unk>\n",
            "-----\n",
            "\n",
            "\n",
            "Model was saved\n"
          ]
        },
        {
          "name": "stderr",
          "output_type": "stream",
          "text": [
            "Train epoch 8: 262it [01:50,  2.37it/s]\n"
          ]
        },
        {
          "name": "stdout",
          "output_type": "stream",
          "text": [
            "Train loss for 8 is 5.04846180668314\n"
          ]
        },
        {
          "name": "stderr",
          "output_type": "stream",
          "text": [
            "Val epoch 8: 66it [00:17,  3.69it/s]\n"
          ]
        },
        {
          "name": "stdout",
          "output_type": "stream",
          "text": [
            "Val loss for 8 is 5.153910954793294\n",
            "Sample Predictions:\n",
            "-----\n",
            "\n",
            "Input: <bos> cosentyx and <unk> does anyone have any updates on being on a biologic and getting <unk> ? what are your doctors saying ? continue or stop taking them ? <eos> \n",
            "Generated Answer: <bos> i <unk> <unk> <unk> <unk> <unk> <unk> <unk> <unk> <unk> <unk> <unk> <unk> <unk> <unk> <unk> <unk> <unk> <unk> <unk> <unk> <unk> <unk> <unk> <unk> <unk> <unk> <unk> <unk> <unk> <unk> <unk> <unk> <unk> <unk> <unk> <unk> <unk> <unk> <unk> <unk> <unk> <unk> <unk> <unk> <unk> <unk> <unk> <unk> <unk> <unk> <unk> <unk> <unk> <unk> <unk> <unk> <unk> <unk> <unk> <unk> <unk> <unk> <unk> <unk> <unk> <unk> <unk> <unk> <unk> <unk> <unk> <unk> <unk> <unk> <unk> <unk> <unk> <unk> <unk> <unk> <unk> <unk> <unk> <unk> <unk> <unk> <unk> <unk> <unk> <unk> <unk> <unk> <unk> <unk> <unk> <unk> <unk> <unk> <unk> <unk> <unk> <unk> <unk> <unk> <unk> <unk> <unk> <unk> <unk> <unk> <unk> <unk> <unk> <unk> <unk> <unk> <unk> <unk> <unk> <unk> <unk> <unk> <unk> <unk> <unk> <unk>\n",
            "-----\n",
            "Input: <bos> if novel coronavirus antibodies may or may not offer <unk> immunity , how would a vaccine help ? <eos> \n",
            "Generated Answer: <bos> i <unk> <unk> <unk> <unk> <unk> <unk> <unk> <unk> <unk> <unk> <unk> <unk> <unk> <unk> <unk> <unk> <unk> <unk> <unk> <unk> <unk> <unk> <unk> <unk> <unk> <unk> <unk> <unk> <unk> <unk> <unk> <unk> <unk> <unk> <unk> <unk> <unk> <unk> <unk> <unk> <unk> <unk> <unk> <unk> <unk> <unk> <unk> <unk> <unk> <unk> <unk> <unk> <unk> <unk> <unk> <unk> <unk> <unk> <unk> <unk> <unk> <unk> <unk> <unk> <unk> <unk> <unk> <unk> <unk> <unk> <unk> <unk> <unk> <unk> <unk> <unk> <unk> <unk> <unk> <unk> <unk> <unk> <unk> <unk> <unk> <unk> <unk> <unk> <unk> <unk> <unk> <unk> <unk> <unk> <unk> <unk> <unk> <unk> <unk> <unk> <unk> <unk> <unk> <unk> <unk> <unk> <unk> <unk> <unk> <unk> <unk> <unk> <unk> <unk> <unk> <unk> <unk> <unk> <unk> <unk> <unk> <unk> <unk> <unk> <unk> <unk>\n",
            "-----\n",
            "Input: <bos> will the coronavirus survive in the refrigerator or freezer ? <eos> \n",
            "Generated Answer: <bos> i <unk> <unk> <unk> <unk> <unk> <unk> <unk> <unk> <unk> <unk> <unk> <unk> <unk> <unk> <unk> <unk> <unk> <unk> <unk> <unk> <unk> <unk> <unk> <unk> <unk> <unk> <unk> <unk> <unk> <unk> <unk> <unk> <unk> <unk> <unk> <unk> <unk> <unk> <unk> <unk> <unk> <unk> <unk> <unk> <unk> <unk> <unk> <unk> <unk> <unk> <unk> <unk> <unk> <unk> <unk> <unk> <unk> <unk> <unk> <unk> <unk> <unk> <unk> <unk> <unk> <unk> <unk> <unk> <unk> <unk> <unk> <unk> <unk> <unk> <unk> <unk> <unk> <unk> <unk> <unk> <unk> <unk> <unk> <unk> <unk> <unk> <unk> <unk> <unk> <unk> <unk> <unk> <unk> <unk> <unk> <unk> <unk> <unk> <unk> <unk> <unk> <unk> <unk> <unk> <unk> <unk> <unk> <unk> <unk> <unk> <unk> <unk> <unk> <unk> <unk> <unk> <unk> <unk> <unk> <unk> <unk> <unk> <unk> <unk> <unk> <unk>\n",
            "-----\n",
            "\n",
            "\n",
            "Model was saved\n"
          ]
        },
        {
          "name": "stderr",
          "output_type": "stream",
          "text": [
            "Train epoch 9: 262it [01:51,  2.36it/s]\n"
          ]
        },
        {
          "name": "stdout",
          "output_type": "stream",
          "text": [
            "Train loss for 9 is 4.953936556823381\n"
          ]
        },
        {
          "name": "stderr",
          "output_type": "stream",
          "text": [
            "Val epoch 9: 66it [00:17,  3.72it/s]\n"
          ]
        },
        {
          "name": "stdout",
          "output_type": "stream",
          "text": [
            "Val loss for 9 is 5.110281098972667\n",
            "Sample Predictions:\n",
            "-----\n",
            "\n",
            "Input: <bos> cosentyx and <unk> does anyone have any updates on being on a biologic and getting <unk> ? what are your doctors saying ? continue or stop taking them ? <eos> \n",
            "Generated Answer: <bos> i <unk> <unk> <unk> <unk> <unk> <unk> <unk> <unk> <unk> <unk> <unk> <unk> <unk> <unk> <unk> <unk> <unk> <unk> <unk> <unk> <unk> <unk> <unk> <unk> <unk> <unk> <unk> <unk> <unk> <unk> <unk> <unk> <unk> <unk> <unk> <unk> <unk> <unk> <unk> <unk> <unk> <unk> <unk> <unk> <unk> <unk> <unk> <unk> <unk> <unk> <unk> <unk> <unk> <unk> <unk> <unk> <unk> <unk> <unk> <unk> <unk> <unk> <unk> <unk> <unk> <unk> <unk> <unk> <unk> <unk> <unk> <unk> <unk> <unk> <unk> <unk> <unk> <unk> <unk> <unk> <unk> <unk> <unk> <unk> <unk> <unk> <unk> <unk> <unk> <unk> <unk> <unk> <unk> <unk> <unk> <unk> <unk> <unk> <unk> <unk> <unk> <unk> <unk> <unk> <unk> <unk> <unk> <unk> <unk> <unk> <unk> <unk> <unk> <unk> <unk> <unk> <unk> <unk> <unk> <unk> <unk> <unk> <unk> <unk> <unk> <unk>\n",
            "-----\n",
            "Input: <bos> if novel coronavirus antibodies may or may not offer <unk> immunity , how would a vaccine help ? <eos> \n",
            "Generated Answer: <bos> <unk> , i <unk> <unk> <unk> <unk> <unk> <unk> <unk> <unk> <unk> <unk> <unk> <unk> <unk> <unk> <unk> <unk> <unk> <unk> <unk> <unk> <unk> <unk> <unk> <unk> <unk> <unk> <unk> <unk> <unk> <unk> <unk> <unk> <unk> <unk> <unk> <unk> <unk> <unk> <unk> <unk> <unk> <unk> <unk> <unk> <unk> <unk> <unk> <unk> <unk> <unk> <unk> <unk> <unk> <unk> <unk> <unk> <unk> <unk> <unk> <unk> <unk> <unk> <unk> <unk> <unk> <unk> <unk> <unk> <unk> <unk> <unk> <unk> <unk> <unk> <unk> <unk> <unk> <unk> <unk> <unk> <unk> <unk> <unk> <unk> <unk> <unk> <unk> <unk> <unk> <unk> <unk> <unk> <unk> <unk> <unk> <unk> <unk> <unk> <unk> <unk> <unk> <unk> <unk> <unk> <unk> <unk> <unk> <unk> <unk> <unk> <unk> <unk> <unk> <unk> <unk> <unk> <unk> <unk> <unk> <unk> <unk> <unk> <unk> <unk>\n",
            "-----\n",
            "Input: <bos> will the coronavirus survive in the refrigerator or freezer ? <eos> \n",
            "Generated Answer: <bos> <unk> , <unk> , <unk> , <unk> , <unk> , <unk> , <unk> , and <unk> , and <unk> , and <unk> , and <unk> , and <unk> , and , and , and , and , and , and , and , and , and , and , and , and , and , and , and , and , and , and , and , and , and , and , and , and , and , and , and , and , and , and , and , and , and , and , and , and , and , and , and , and , and , and , and , and , and , and , and , and , and ,\n",
            "-----\n",
            "\n",
            "\n",
            "Model was saved\n"
          ]
        },
        {
          "name": "stderr",
          "output_type": "stream",
          "text": [
            "Train epoch 10: 262it [01:52,  2.33it/s]\n"
          ]
        },
        {
          "name": "stdout",
          "output_type": "stream",
          "text": [
            "Train loss for 10 is 4.872314855342603\n"
          ]
        },
        {
          "name": "stderr",
          "output_type": "stream",
          "text": [
            "Val epoch 10: 66it [00:18,  3.67it/s]\n"
          ]
        },
        {
          "name": "stdout",
          "output_type": "stream",
          "text": [
            "Val loss for 10 is 5.0474053151679765\n",
            "Sample Predictions:\n",
            "-----\n",
            "\n",
            "Input: <bos> cosentyx and <unk> does anyone have any updates on being on a biologic and getting <unk> ? what are your doctors saying ? continue or stop taking them ? <eos> \n",
            "Generated Answer: <bos> i <unk> <unk> <unk> <unk> <unk> <unk> <unk> <unk> <unk> <unk> <unk> <unk> <unk> <unk> <unk> <unk> <unk> <unk> <unk> <unk> <unk> <unk> <unk> <unk> <unk> <unk> <unk> <unk> <unk> <unk> <unk> <unk> <unk> <unk> <unk> <unk> <unk> <unk> <unk> <unk> <unk> <unk> <unk> <unk> <unk> <unk> <unk> <unk> <unk> <unk> <unk> <unk> <unk> <unk> <unk> <unk> <unk> <unk> <unk> <unk> <unk> <unk> <unk> <unk> <unk> <unk> <unk> <unk> <unk> <unk> <unk> <unk> <unk> <unk> <unk> <unk> <unk> <unk> <unk> <unk> <unk> <unk> <unk> <unk> <unk> <unk> <unk> <unk> <unk> <unk> <unk> <unk> <unk> <unk> <unk> <unk> <unk> <unk> <unk> <unk> <unk> <unk> <unk> <unk> <unk> <unk> <unk> <unk> <unk> <unk> <unk> <unk> <unk> <unk> <unk> <unk> <unk> <unk> <unk> <unk> <unk> <unk> <unk> <unk> <unk> <unk>\n",
            "-----\n",
            "Input: <bos> if novel coronavirus antibodies may or may not offer <unk> immunity , how would a vaccine help ? <eos> \n",
            "Generated Answer: <bos> i <unk> <unk> <unk> <unk> <unk> <unk> <unk> <unk> <unk> <unk> <unk> <unk> <unk> <unk> <unk> <unk> <unk> <unk> <unk> <unk> <unk> <unk> <unk> <unk> <unk> <unk> <unk> <unk> <unk> <unk> <unk> <unk> <unk> <unk> <unk> <unk> <unk> <unk> <unk> <unk> <unk> <unk> <unk> <unk> <unk> <unk> <unk> <unk> <unk> <unk> <unk> <unk> <unk> <unk> <unk> <unk> <unk> <unk> <unk> <unk> <unk> <unk> <unk> <unk> <unk> <unk> <unk> <unk> <unk> <unk> <unk> <unk> <unk> <unk> <unk> <unk> <unk> <unk> <unk> <unk> <unk> <unk> <unk> <unk> <unk> <unk> <unk> <unk> <unk> <unk> <unk> <unk> <unk> <unk> <unk> <unk> <unk> <unk> <unk> <unk> <unk> <unk> <unk> <unk> <unk> <unk> <unk> <unk> <unk> <unk> <unk> <unk> <unk> <unk> <unk> <unk> <unk> <unk> <unk> <unk> <unk> <unk> <unk> <unk> <unk> <unk>\n",
            "-----\n",
            "Input: <bos> will the coronavirus survive in the refrigerator or freezer ? <eos> \n",
            "Generated Answer: <bos> i <unk> <unk> <unk> <unk> <unk> <unk> <unk> <unk> <unk> <unk> <unk> <unk> <unk> <unk> <unk> <unk> <unk> <unk> <unk> <unk> <unk> <unk> <unk> <unk> <unk> <unk> <unk> <unk> <unk> <unk> <unk> <unk> <unk> <unk> <unk> <unk> <unk> <unk> <unk> <unk> <unk> <unk> <unk> <unk> <unk> <unk> <unk> <unk> <unk> <unk> <unk> <unk> <unk> <unk> <unk> <unk> <unk> <unk> <unk> <unk> <unk> <unk> <unk> <unk> <unk> <unk> <unk> <unk> <unk> <unk> <unk> <unk> <unk> <unk> <unk> <unk> <unk> <unk> <unk> <unk> <unk> <unk> <unk> <unk> <unk> <unk> <unk> <unk> <unk> <unk> <unk> <unk> <unk> <unk> <unk> <unk> <unk> <unk> <unk> <unk> <unk> <unk> <unk> <unk> <unk> <unk> <unk> <unk> <unk> <unk> <unk> <unk> <unk> <unk> <unk> <unk> <unk> <unk> <unk> <unk> <unk> <unk> <unk> <unk> <unk> <unk>\n",
            "-----\n",
            "\n",
            "\n",
            "Model was saved\n"
          ]
        },
        {
          "name": "stderr",
          "output_type": "stream",
          "text": [
            "Train epoch 11: 262it [01:52,  2.33it/s]\n"
          ]
        },
        {
          "name": "stdout",
          "output_type": "stream",
          "text": [
            "Train loss for 11 is 4.799389959291648\n"
          ]
        },
        {
          "name": "stderr",
          "output_type": "stream",
          "text": [
            "Val epoch 11: 66it [00:17,  3.70it/s]\n"
          ]
        },
        {
          "name": "stdout",
          "output_type": "stream",
          "text": [
            "Val loss for 11 is 4.982606822794134\n",
            "Sample Predictions:\n",
            "-----\n",
            "\n",
            "Input: <bos> cosentyx and <unk> does anyone have any updates on being on a biologic and getting <unk> ? what are your doctors saying ? continue or stop taking them ? <eos> \n",
            "Generated Answer: <bos> i <unk> <unk> <unk> <unk> <unk> <unk> <unk> <unk> <unk> <unk> <unk> <unk> <unk> <unk> <unk> <unk> <unk> <unk> <unk> <unk> <unk> <unk> <unk> <unk> <unk> <unk> <unk> <unk> <unk> <unk> <unk> <unk> <unk> <unk> <unk> <unk> <unk> <unk> <unk> <unk> <unk> <unk> <unk> <unk> <unk> <unk> <unk> <unk> <unk> <unk> <unk> <unk> <unk> <unk> <unk> <unk> <unk> <unk> <unk> <unk> <unk> <unk> <unk> <unk> <unk> <unk> <unk> <unk> <unk> <unk> <unk> <unk> <unk> <unk> <unk> <unk> <unk> <unk> <unk> <unk> <unk> <unk> <unk> <unk> <unk> <unk> <unk> <unk> <unk> <unk> <unk> <unk> <unk> <unk> <unk> <unk> <unk> <unk> <unk> <unk> <unk> <unk> <unk> <unk> <unk> <unk> <unk> <unk> <unk> <unk> <unk> <unk> <unk> <unk> <unk> <unk> <unk> <unk> <unk> <unk> <unk> <unk> <unk> <unk> <unk> <unk>\n",
            "-----\n",
            "Input: <bos> if novel coronavirus antibodies may or may not offer <unk> immunity , how would a vaccine help ? <eos> \n",
            "Generated Answer: <bos> <unk> , <unk> , <unk> , <unk> , <unk> , <unk> , <unk> , <unk> , <unk> , <unk> , <unk> , <unk> , <unk> , <unk> , <unk> , <unk> , <unk> , <unk> , <unk> , <unk> , <unk> , <unk> , <unk> , <unk> , <unk> , <unk> , <unk> , <unk> , <unk> , <unk> , <unk> , <unk> , <unk> , <unk> , <unk> , <unk> , <unk> , <unk> , <unk> , <unk> , <unk> , <unk> , <unk> , <unk> , <unk> , <unk> , <unk> , <unk> , <unk> , <unk> , <unk> , <unk> , <unk> , <unk> , <unk> , <unk> , <unk> , <unk> , <unk> , <unk> , <unk> , <unk> , <unk> , <unk>\n",
            "-----\n",
            "Input: <bos> will the coronavirus survive in the refrigerator or freezer ? <eos> \n",
            "Generated Answer: <bos> i <unk> <unk> <unk> <unk> <unk> <unk> <unk> <unk> <unk> <unk> <unk> <unk> <unk> <unk> <unk> <unk> <unk> <unk> <unk> <unk> <unk> <unk> <unk> <unk> <unk> <unk> <unk> <unk> <unk> <unk> <unk> <unk> <unk> <unk> <unk> <unk> <unk> <unk> <unk> <unk> <unk> <unk> <unk> <unk> <unk> <unk> <unk> <unk> <unk> <unk> <unk> <unk> <unk> <unk> <unk> <unk> <unk> <unk> <unk> <unk> <unk> <unk> <unk> <unk> <unk> <unk> <unk> <unk> <unk> <unk> <unk> <unk> <unk> <unk> <unk> <unk> <unk> <unk> <unk> <unk> <unk> <unk> <unk> <unk> <unk> <unk> <unk> <unk> <unk> <unk> <unk> <unk> <unk> <unk> <unk> <unk> <unk> <unk> <unk> <unk> <unk> <unk> <unk> <unk> <unk> <unk> <unk> <unk> <unk> <unk> <unk> <unk> <unk> <unk> <unk> <unk> <unk> <unk> <unk> <unk> <unk> <unk> <unk> <unk> <unk> <unk>\n",
            "-----\n",
            "\n",
            "\n",
            "Model was saved\n"
          ]
        },
        {
          "name": "stderr",
          "output_type": "stream",
          "text": [
            "Train epoch 12: 262it [01:53,  2.32it/s]\n"
          ]
        },
        {
          "name": "stdout",
          "output_type": "stream",
          "text": [
            "Train loss for 12 is 4.731081988065298\n"
          ]
        },
        {
          "name": "stderr",
          "output_type": "stream",
          "text": [
            "Val epoch 12: 66it [00:18,  3.66it/s]\n"
          ]
        },
        {
          "name": "stdout",
          "output_type": "stream",
          "text": [
            "Val loss for 12 is 4.946677858179266\n",
            "Sample Predictions:\n",
            "-----\n",
            "\n",
            "Input: <bos> cosentyx and <unk> does anyone have any updates on being on a biologic and getting <unk> ? what are your doctors saying ? continue or stop taking them ? <eos> \n",
            "Generated Answer: <bos> i <unk> <unk> <unk> <unk> <unk> <unk> <unk> <unk> <unk> <unk> <unk> <unk> <unk> <unk> <unk> <unk> <unk> <unk> <unk> <unk> <unk> <unk> <unk> <unk> <unk> <unk> <unk> <unk> <unk> <unk> <unk> <unk> <unk> <unk> <unk> <unk> <unk> <unk> <unk> <unk> <unk> <unk> <unk> <unk> <unk> <unk> <unk> <unk> <unk> <unk> <unk> <unk> <unk> <unk> <unk> <unk> <unk> <unk> <unk> <unk> <unk> <unk> <unk> <unk> <unk> <unk> <unk> <unk> <unk> <unk> <unk> <unk> <unk> <unk> <unk> <unk> <unk> <unk> <unk> <unk> <unk> <unk> <unk> <unk> <unk> <unk> <unk> <unk> <unk> <unk> <unk> <unk> <unk> <unk> <unk> <unk> <unk> <unk> <unk> <unk> <unk> <unk> <unk> <unk> <unk> <unk> <unk> <unk> <unk> <unk> <unk> <unk> <unk> <unk> <unk> <unk> <unk> <unk> <unk> <unk> <unk> <unk> <unk> <unk> <unk> <unk>\n",
            "-----\n",
            "Input: <bos> if novel coronavirus antibodies may or may not offer <unk> immunity , how would a vaccine help ? <eos> \n",
            "Generated Answer: <bos> <unk> , <unk> , <unk> , <unk> , <unk> , <unk> , <unk> , <unk> , <unk> , <unk> , <unk> , <unk> , <unk> , <unk> , <unk> , <unk> , <unk> , <unk> , <unk> , <unk> , <unk> , <unk> , <unk> , <unk> , <unk> , <unk> , <unk> , <unk> , <unk> , <unk> , <unk> , <unk> , <unk> , <unk> , <unk> , <unk> , <unk> , <unk> , <unk> , <unk> , <unk> , <unk> , <unk> , <unk> , <unk> , <unk> , <unk> , <unk> , <unk> , <unk> , <unk> , <unk> , <unk> , <unk> , <unk> , <unk> , <unk> , <unk> , <unk> , <unk> , <unk> , <unk> , <unk> , <unk>\n",
            "-----\n",
            "Input: <bos> will the coronavirus survive in the refrigerator or freezer ? <eos> \n",
            "Generated Answer: <bos> i <unk> <unk> <unk> <unk> <unk> <unk> <unk> <unk> <unk> <unk> <unk> <unk> <unk> <unk> <unk> <unk> <unk> <unk> <unk> <unk> <unk> <unk> <unk> <unk> <unk> <unk> <unk> <unk> <unk> <unk> <unk> <unk> <unk> <unk> <unk> <unk> <unk> <unk> <unk> <unk> <unk> <unk> <unk> <unk> <unk> <unk> <unk> <unk> <unk> <unk> <unk> <unk> <unk> <unk> <unk> <unk> <unk> <unk> <unk> <unk> <unk> <unk> <unk> <unk> <unk> <unk> <unk> <unk> <unk> <unk> <unk> <unk> <unk> <unk> <unk> <unk> <unk> <unk> <unk> <unk> <unk> <unk> <unk> <unk> <unk> <unk> <unk> <unk> <unk> <unk> <unk> <unk> <unk> <unk> <unk> <unk> <unk> <unk> <unk> <unk> <unk> <unk> <unk> <unk> <unk> <unk> <unk> <unk> <unk> <unk> <unk> <unk> <unk> <unk> <unk> <unk> <unk> <unk> <unk> <unk> <unk> <unk> <unk> <unk> <unk> <unk>\n",
            "-----\n",
            "\n",
            "\n",
            "Model was saved\n"
          ]
        },
        {
          "name": "stderr",
          "output_type": "stream",
          "text": [
            "Train epoch 13: 262it [01:52,  2.34it/s]\n"
          ]
        },
        {
          "name": "stdout",
          "output_type": "stream",
          "text": [
            "Train loss for 13 is 4.667193327241272\n"
          ]
        },
        {
          "name": "stderr",
          "output_type": "stream",
          "text": [
            "Val epoch 13: 66it [00:17,  3.73it/s]\n"
          ]
        },
        {
          "name": "stdout",
          "output_type": "stream",
          "text": [
            "Val loss for 13 is 4.912841399510701\n",
            "Sample Predictions:\n",
            "-----\n",
            "\n",
            "Input: <bos> cosentyx and <unk> does anyone have any updates on being on a biologic and getting <unk> ? what are your doctors saying ? continue or stop taking them ? <eos> \n",
            "Generated Answer: <bos> i <unk> <unk> <unk> <unk> <unk> <unk> <unk> <unk> <unk> <unk> <unk> <unk> <unk> <unk> <unk> <unk> <unk> <unk> <unk> <unk> <unk> <unk> <unk> <unk> <unk> <unk> <unk> <unk> <unk> <unk> <unk> <unk> <unk> <unk> <unk> <unk> <unk> <unk> <unk> <unk> <unk> <unk> <unk> <unk> <unk> <unk> <unk> <unk> <unk> <unk> <unk> <unk> <unk> <unk> <unk> <unk> <unk> <unk> <unk> <unk> <unk> <unk> <unk> <unk> <unk> <unk> <unk> <unk> <unk> <unk> <unk> <unk> <unk> <unk> <unk> <unk> <unk> <unk> <unk> <unk> <unk> <unk> <unk> <unk> <unk> <unk> <unk> <unk> <unk> <unk> <unk> <unk> <unk> <unk> <unk> <unk> <unk> <unk> <unk> <unk> <unk> <unk> <unk> <unk> <unk> <unk> <unk> <unk> <unk> <unk> <unk> <unk> <unk> <unk> <unk> <unk> <unk> <unk> <unk> <unk> <unk> <unk> <unk> <unk> <unk> <unk>\n",
            "-----\n",
            "Input: <bos> if novel coronavirus antibodies may or may not offer <unk> immunity , how would a vaccine help ? <eos> \n",
            "Generated Answer: <bos> i <unk> <unk> <unk> <unk> <unk> <unk> <unk> <unk> <unk> <unk> <unk> <unk> <unk> <unk> <unk> <unk> <unk> <unk> <unk> <unk> <unk> <unk> <unk> <unk> <unk> <unk> <unk> <unk> <unk> <unk> <unk> <unk> <unk> <unk> <unk> <unk> <unk> <unk> <unk> <unk> <unk> <unk> <unk> <unk> <unk> <unk> <unk> <unk> <unk> <unk> <unk> <unk> <unk> <unk> <unk> <unk> <unk> <unk> <unk> <unk> <unk> <unk> <unk> <unk> <unk> <unk> <unk> <unk> <unk> <unk> <unk> <unk> <unk> <unk> <unk> <unk> <unk> <unk> <unk> <unk> <unk> <unk> <unk> <unk> <unk> <unk> <unk> <unk> <unk> <unk> <unk> <unk> <unk> <unk> <unk> <unk> <unk> <unk> <unk> <unk> <unk> <unk> <unk> <unk> <unk> <unk> <unk> <unk> <unk> <unk> <unk> <unk> <unk> <unk> <unk> <unk> <unk> <unk> <unk> <unk> <unk> <unk> <unk> <unk> <unk> <unk>\n",
            "-----\n",
            "Input: <bos> will the coronavirus survive in the refrigerator or freezer ? <eos> \n",
            "Generated Answer: <bos> i <unk> <unk> <unk> <unk> <unk> <unk> <unk> <unk> <unk> <unk> <unk> <unk> <unk> <unk> <unk> <unk> <unk> <unk> <unk> <unk> <unk> <unk> <unk> <unk> <unk> <unk> <unk> <unk> <unk> <unk> <unk> <unk> <unk> <unk> <unk> <unk> <unk> <unk> <unk> <unk> <unk> <unk> <unk> <unk> <unk> <unk> <unk> <unk> <unk> <unk> <unk> <unk> <unk> <unk> <unk> <unk> <unk> <unk> <unk> <unk> <unk> <unk> <unk> <unk> <unk> <unk> <unk> <unk> <unk> <unk> <unk> <unk> <unk> <unk> <unk> <unk> <unk> <unk> <unk> <unk> <unk> <unk> <unk> <unk> <unk> <unk> <unk> <unk> <unk> <unk> <unk> <unk> <unk> <unk> <unk> <unk> <unk> <unk> <unk> <unk> <unk> <unk> <unk> <unk> <unk> <unk> <unk> <unk> <unk> <unk> <unk> <unk> <unk> <unk> <unk> <unk> <unk> <unk> <unk> <unk> <unk> <unk> <unk> <unk> <unk> <unk>\n",
            "-----\n",
            "\n",
            "\n",
            "Model was saved\n"
          ]
        },
        {
          "name": "stderr",
          "output_type": "stream",
          "text": [
            "Train epoch 14: 262it [01:53,  2.31it/s]\n"
          ]
        },
        {
          "name": "stdout",
          "output_type": "stream",
          "text": [
            "Train loss for 14 is 4.597957463664863\n"
          ]
        },
        {
          "name": "stderr",
          "output_type": "stream",
          "text": [
            "Val epoch 14: 66it [00:18,  3.66it/s]\n"
          ]
        },
        {
          "name": "stdout",
          "output_type": "stream",
          "text": [
            "Val loss for 14 is 4.886981790715998\n",
            "Sample Predictions:\n",
            "-----\n",
            "\n",
            "Input: <bos> cosentyx and <unk> does anyone have any updates on being on a biologic and getting <unk> ? what are your doctors saying ? continue or stop taking them ? <eos> \n",
            "Generated Answer: <bos> i <unk> <unk> <unk> <unk> <unk> <unk> <unk> <unk> <unk> <unk> <unk> <unk> <unk> <unk> <unk> <unk> <unk> <unk> <unk> <unk> <unk> <unk> <unk> <unk> <unk> <unk> <unk> <unk> <unk> <unk> <unk> <unk> <unk> <unk> <unk> <unk> <unk> <unk> <unk> <unk> <unk> <unk> <unk> <unk> <unk> <unk> <unk> <unk> <unk> <unk> <unk> <unk> <unk> <unk> <unk> <unk> <unk> <unk> <unk> <unk> <unk> <unk> <unk> <unk> <unk> <unk> <unk> <unk> <unk> <unk> <unk> <unk> <unk> <unk> <unk> <unk> <unk> <unk> <unk> <unk> <unk> <unk> <unk> <unk> <unk> <unk> <unk> <unk> <unk> <unk> <unk> <unk> <unk> <unk> <unk> <unk> <unk> <unk> <unk> <unk> <unk> <unk> <unk> <unk> <unk> <unk> <unk> <unk> <unk> <unk> <unk> <unk> <unk> <unk> <unk> <unk> <unk> <unk> <unk> <unk> <unk> <unk> <unk> <unk> <unk> <unk>\n",
            "-----\n",
            "Input: <bos> if novel coronavirus antibodies may or may not offer <unk> immunity , how would a vaccine help ? <eos> \n",
            "Generated Answer: <bos> i have been diagnosed with <unk> . i have been diagnosed with <unk> . i <unk> <unk> <unk> <unk> <unk> <unk> <unk> <unk> <unk> <unk> <unk> <unk> <unk> <unk> <unk> <unk> <unk> <unk> <unk> <unk> <unk> <unk> <unk> <unk> <unk> <unk> <unk> <unk> <unk> <unk> <unk> <unk> <unk> <unk> <unk> <unk> <unk> <unk> <unk> <unk> <unk> <unk> <unk> <unk> <unk> <unk> <unk> <unk> <unk> <unk> <unk> <unk> <unk> <unk> <unk> <unk> <unk> <unk> <unk> <unk> <unk> <unk> <unk> <unk> <unk> <unk> <unk> <unk> <unk> <unk> <unk> <unk> <unk> <unk> <unk> <unk> <unk> <unk> <unk> <unk> <unk> <unk> <unk> <unk> <unk> <unk> <unk> <unk> <unk> <unk> <unk> <unk> <unk> <unk> <unk> <unk> <unk> <unk> <unk> <unk> <unk> <unk> <unk> <unk> <unk> <unk> <unk> <unk> <unk> <unk> <unk> <unk>\n",
            "-----\n",
            "Input: <bos> will the coronavirus survive in the refrigerator or freezer ? <eos> \n",
            "Generated Answer: <bos> i have been diagnosed with <unk> . i have been diagnosed with <unk> . i <unk> <unk> <unk> <unk> <unk> <unk> <unk> <unk> <unk> <unk> <unk> <unk> <unk> <unk> <unk> <unk> <unk> <unk> <unk> <unk> <unk> <unk> <unk> <unk> <unk> <unk> <unk> <unk> <unk> <unk> <unk> <unk> <unk> <unk> <unk> <unk> <unk> <unk> <unk> <unk> <unk> <unk> <unk> <unk> <unk> <unk> <unk> <unk> <unk> <unk> <unk> <unk> <unk> <unk> <unk> <unk> <unk> <unk> <unk> <unk> <unk> <unk> <unk> <unk> <unk> <unk> <unk> <unk> <unk> <unk> <unk> <unk> <unk> <unk> <unk> <unk> <unk> <unk> <unk> <unk> <unk> <unk> <unk> <unk> <unk> <unk> <unk> <unk> <unk> <unk> <unk> <unk> <unk> <unk> <unk> <unk> <unk> <unk> <unk> <unk> <unk> <unk> <unk> <unk> <unk> <unk> <unk> <unk> <unk> <unk> <unk> <unk>\n",
            "-----\n",
            "\n",
            "\n",
            "Model was saved\n"
          ]
        },
        {
          "name": "stderr",
          "output_type": "stream",
          "text": [
            "Train epoch 15: 262it [01:52,  2.33it/s]\n"
          ]
        },
        {
          "name": "stdout",
          "output_type": "stream",
          "text": [
            "Train loss for 15 is 4.559637246241096\n"
          ]
        },
        {
          "name": "stderr",
          "output_type": "stream",
          "text": [
            "Val epoch 15: 17it [00:04,  3.76it/s]"
          ]
        }
      ],
      "source": [
        "train_loss, test_loss = train(100, model, critereion, optimizer, train_loader, test_loader, len(vocabular), device)"
      ]
    },
    {
      "cell_type": "code",
      "execution_count": null,
      "id": "UT7ONhnIzcCh",
      "metadata": {
        "id": "UT7ONhnIzcCh"
      },
      "outputs": [],
      "source": [
        "torch.save(model.state_dict(), 'model_weights.pth')"
      ]
    },
    {
      "cell_type": "code",
      "execution_count": null,
      "id": "QCWoCAh_fHwT",
      "metadata": {
        "colab": {
          "base_uri": "https://localhost:8080/",
          "height": 472
        },
        "id": "QCWoCAh_fHwT",
        "outputId": "61dd6108-f0bb-4c50-f39e-d19030c07866"
      },
      "outputs": [
        {
          "data": {
            "image/png": "[encoded data removed]",
            "text/plain": [
              "<Figure size 640x480 with 1 Axes>"
            ]
          },
          "metadata": {},
          "output_type": "display_data"
        }
      ],
      "source": [
        "loss_plot(train_loss, test_loss)"
      ]
    },
    {
      "cell_type": "code",
      "execution_count": null,
      "id": "c72d544d",
      "metadata": {
        "colab": {
          "base_uri": "https://localhost:8080/",
          "height": 70
        },
        "id": "c72d544d",
        "outputId": "f6e5265c-cc19-4526-cc4a-9bb08b39e438"
      },
      "outputs": [
        {
          "data": {
            "application/vnd.google.colaboratory.intrinsic+json": {
              "type": "string"
            },
            "text/plain": [
              "'<bos> cdc is not aware of any scientific reports of the virus that causes <unk> . however , there is no evidence that the virus that causes <unk> is not to be spread from the virus that causes <unk> .'"
            ]
          },
          "execution_count": 389,
          "metadata": {},
          "output_type": "execute_result"
        }
      ],
      "source": [
        "model_predict('What is it coronavirus?', model)"
      ]
    },
    {
      "cell_type": "code",
      "execution_count": null,
      "id": "d10078b4",
      "metadata": {
        "id": "d10078b4"
      },
      "outputs": [],
      "source": [
        "train_loss, test_loss = train(20, model, critereion, optimizer, train_loader, test_loader, len(vocabular), device)"
      ]
    }
  ],
  "metadata": {
    "accelerator": "GPU",
    "colab": {
      "gpuType": "T4",
      "include_colab_link": true,
      "provenance": []
    },
    "kernelspec": {
      "display_name": "3.12.2",
      "language": "python",
      "name": "python3"
    },
    "language_info": {
      "codemirror_mode": {
        "name": "ipython",
        "version": 3
      },
      "file_extension": ".py",
      "mimetype": "text/x-python",
      "name": "python",
      "nbconvert_exporter": "python",
      "pygments_lexer": "ipython3",
      "version": "3.12.2"
    }
  },
  "nbformat": 4,
  "nbformat_minor": 5
}
